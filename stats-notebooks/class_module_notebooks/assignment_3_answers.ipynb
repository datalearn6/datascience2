{
 "cells": [
  {
   "cell_type": "code",
   "execution_count": 5,
   "metadata": {},
   "outputs": [
    {
     "data": {
      "text/html": [
       "<script>requirejs.config({paths: { 'plotly': ['https://cdn.plot.ly/plotly-latest.min']},});if(!window.Plotly) {{require(['plotly'],function(plotly) {window.Plotly=plotly;});}}</script>"
      ],
      "text/vnd.plotly.v1+html": [
       "<script>requirejs.config({paths: { 'plotly': ['https://cdn.plot.ly/plotly-latest.min']},});if(!window.Plotly) {{require(['plotly'],function(plotly) {window.Plotly=plotly;});}}</script>"
      ]
     },
     "metadata": {},
     "output_type": "display_data"
    }
   ],
   "source": [
    "from plotly.offline import download_plotlyjs, init_notebook_mode, plot, iplot\n",
    "init_notebook_mode(connected=True)\n",
    "import plotly.graph_objs as go\n",
    "import numpy as np\n",
    "from scipy import stats\n",
    "import random"
   ]
  },
  {
   "cell_type": "markdown",
   "metadata": {},
   "source": [
    "Ans 1: No. of US adult twitter users who gets some news from twitter = 52%\n",
    "\n",
    "S.E. = 2.4%\n",
    "\n",
    "1-alpha = 0.95"
   ]
  },
  {
   "cell_type": "code",
   "execution_count": 7,
   "metadata": {},
   "outputs": [
    {
     "name": "stdout",
     "output_type": "stream",
     "text": [
      "Our value with confidence interval is between  0.5670 and  0.4730\n"
     ]
    }
   ],
   "source": [
    "p = .52\n",
    "se = .024\n",
    "## Confidence interval = 95%  which means z(alpha/2) = 1.96. Hence confidence level = p +- es(1.96)\n",
    "high_p = .52 + (1.96*.024)\n",
    "low_p  = .52 - (1.96*.024)\n",
    "\n",
    "print(\"Our value with confidence interval is between  %.4f and  %.4f\" % (high_p, low_p))"
   ]
  },
  {
   "cell_type": "markdown",
   "metadata": {
    "collapsed": true
   },
   "source": [
    "Answer 2 : \n",
    "p = .52\n",
    "se = .024\n",
    "\n",
    "Section a )\n",
    "alpha = 0.05 implies 1-0.05 = 95% confidence interval.  Hence we would multiply 1.96 with SE to get the confidence interval"
   ]
  },
  {
   "cell_type": "code",
   "execution_count": 1,
   "metadata": {},
   "outputs": [
    {
     "name": "stdout",
     "output_type": "stream",
     "text": [
      "Our value with confidence interval is between  0.5670 and  0.4730\n"
     ]
    }
   ],
   "source": [
    "high_p = .52 + (1.96*.024)\n",
    "low_p  = .52 - (1.96*.024)\n",
    "\n",
    "print(\"Our value with confidence interval is between  %.4f and  %.4f\" % (high_p, low_p))"
   ]
  },
  {
   "cell_type": "markdown",
   "metadata": {},
   "source": [
    "Conclusion : False. Since there are values which are less than .50 it can't be said that at 95% interval that more than half of US adult twitter users get some news through twitter. H0 => p >= 50 and H1 => p < 50\n",
    "\n",
    "\n",
    "Section b)\n",
    "False. Standard error is calculated by find the standard deviation of all the observed values against the mean and dividing by root of total samples. \n",
    "SE = SD / root(n). \n",
    "This has no gurantee that 97.6% of all US adult twitter users would be included in the study.\n",
    "\n",
    "\n",
    "Section c)\n",
    "False. As shown by the formula above for SE (SE = SD / root(n)), in order to reduce the standard error, the number of observations (n) should increase instead of collecting less dataset.\n",
    "\n",
    "Section d)\n",
    "False. \n",
    "If we construct a 90% confidence interval, instead of being wider it would be shorter in width as total population covered by the interval is reduced from the current 95% to 90%. This implies that the total area under the graph for 90% would be less wider than the graph with 95%.\n"
   ]
  },
  {
   "cell_type": "markdown",
   "metadata": {},
   "source": [
    "Answer 3:\n",
    "\n",
    "Conditions Checking\n",
    "\n",
    "a. 5534 no. of women represents less than 10% of total population\n",
    "b. 5534 > 30 (samples needs to be greater than 30).\n",
    "c. Sample is random.\n",
    "\n",
    "ci = .99  (this implies that SE needs to be multipled by 2.58)\n"
   ]
  },
  {
   "cell_type": "code",
   "execution_count": 24,
   "metadata": {},
   "outputs": [
    {
     "name": "stdout",
     "output_type": "stream",
     "text": [
      "Standard error is 0.0634\n",
      " We are 99 percent confident that the average age of women lies between 23.3766 and 23.5034\n"
     ]
    }
   ],
   "source": [
    "mean_age =  23.44\n",
    "sd = 4.72\n",
    "n = 5534\n",
    "se = 4.72 / np.sqrt(5534)\n",
    "\n",
    "print(\"Standard error is %.4f\" % se)\n",
    "low_age_bound = mean_age - se\n",
    "high_age_bound = mean_age + se \n",
    "\n",
    "print (\" We are 99 percent confident that the average age of women lies between %.4f and %.4f\" %(low_age_bound,high_age_bound))\n"
   ]
  },
  {
   "cell_type": "markdown",
   "metadata": {},
   "source": [
    "Answer 4:\n",
    "\n",
    "Given \n",
    "H(0) or null hypothesis =>  x = 23.44\n",
    "H(1) or alternate hypotheses => X > 23.44\n",
    "\n",
    "Errors:\n",
    "1. Scientist should talk about the sample mean instead of population means.\n",
    "2. Also, since she is interested in decrease the alternate hypothesis should say H(1) => u(mu) < 23.44.\n",
    "\n"
   ]
  },
  {
   "cell_type": "markdown",
   "metadata": {},
   "source": [
    "Answer 5:"
   ]
  },
  {
   "cell_type": "code",
   "execution_count": 25,
   "metadata": {},
   "outputs": [
    {
     "name": "stdout",
     "output_type": "stream",
     "text": [
      "z value of the probability is 1.5000\n"
     ]
    }
   ],
   "source": [
    "mu = 9000\n",
    "sd = 1000\n",
    "x = 10500\n",
    "\n",
    "z = (x-mu) / sd\n",
    "\n",
    "print ( \"z value of the probability is %.4f\" %z)\n"
   ]
  },
  {
   "cell_type": "markdown",
   "metadata": {},
   "source": [
    "P(x>10500) => P(Z>1.50) = 1 - P(Z<1.50) = 0.0668 (using z statistic table)"
   ]
  }
 ],
 "metadata": {
  "kernelspec": {
   "display_name": "Python 3",
   "language": "python",
   "name": "python3"
  },
  "language_info": {
   "codemirror_mode": {
    "name": "ipython",
    "version": 3
   },
   "file_extension": ".py",
   "mimetype": "text/x-python",
   "name": "python",
   "nbconvert_exporter": "python",
   "pygments_lexer": "ipython3",
   "version": "3.6.0"
  }
 },
 "nbformat": 4,
 "nbformat_minor": 2
}
