{
 "cells": [
  {
   "cell_type": "code",
   "execution_count": 7,
   "metadata": {
    "collapsed": true
   },
   "outputs": [],
   "source": [
    "import random\n",
    "import pandas as pd\n",
    "import numpy as np\n",
    "%matplotlib inline\n",
    "import matplotlib.pyplot as plt"
   ]
  },
  {
   "cell_type": "markdown",
   "metadata": {},
   "source": [
    "If you need to randomly pick one element from a list you can use random.choice"
   ]
  },
  {
   "cell_type": "code",
   "execution_count": 8,
   "metadata": {},
   "outputs": [
    {
     "data": {
      "text/plain": [
       "'Bob'"
      ]
     },
     "execution_count": 8,
     "metadata": {},
     "output_type": "execute_result"
    }
   ],
   "source": [
    "my_best_friend = random.choice([\"Alice\", \"Bob\", \"Charlie\"])\n",
    "my_best_friend"
   ]
  },
  {
   "cell_type": "markdown",
   "metadata": {},
   "source": [
    "And if you need to randomly choose a sample of elements without replacement (i.e., with no duplicates), you can use random.sample:"
   ]
  },
  {
   "cell_type": "code",
   "execution_count": 9,
   "metadata": {},
   "outputs": [
    {
     "data": {
      "text/plain": [
       "[12, 52, 24, 1, 10, 42]"
      ]
     },
     "execution_count": 9,
     "metadata": {},
     "output_type": "execute_result"
    }
   ],
   "source": [
    "lottery_numbers = range(60)\n",
    "winning_numbers = random.sample(lottery_numbers, 6)\n",
    "winning_numbers"
   ]
  },
  {
   "cell_type": "code",
   "execution_count": 10,
   "metadata": {},
   "outputs": [
    {
     "name": "stdout",
     "output_type": "stream",
     "text": [
      "   Response Treatment\n",
      "0        27      Beer\n",
      "1        20      Beer\n",
      "2        21      Beer\n",
      "3        26      Beer\n",
      "4        27      Beer\n"
     ]
    },
    {
     "data": {
      "text/plain": [
       "array([27, 20, 21, 26, 27, 31, 24, 21, 20, 19, 23, 24, 28, 19, 24, 29, 18,\n",
       "       20, 17, 31, 20, 25, 28, 21, 27, 21, 22, 15, 12, 21, 16, 19, 15, 22,\n",
       "       24, 19, 23, 13, 22, 20, 24, 18, 20])"
      ]
     },
     "execution_count": 10,
     "metadata": {},
     "output_type": "execute_result"
    }
   ],
   "source": [
    "file_path = %pwd\n",
    "file_path = file_path + '/mosquitos_data.csv'\n",
    "file_path\n",
    "mosquitos_data = pd.read_csv(file_path)\n",
    "mosquitos_data.head()\n",
    "data = np.array(mosquitos_data.Response)\n",
    "print(mosquitos_data.head())\n",
    "data"
   ]
  },
  {
   "cell_type": "markdown",
   "metadata": {
    "collapsed": true
   },
   "source": [
    "Using numpy\n",
    "https://docs.scipy.org/doc/numpy-1.13.0/reference/generated/numpy.random.choice.html"
   ]
  },
  {
   "cell_type": "code",
   "execution_count": 11,
   "metadata": {},
   "outputs": [
    {
     "data": {
      "text/plain": [
       "array([24, 15, 31, 18, 18])"
      ]
     },
     "execution_count": 11,
     "metadata": {},
     "output_type": "execute_result"
    }
   ],
   "source": [
    "np.random.choice(data, size=5, replace=False)"
   ]
  },
  {
   "cell_type": "code",
   "execution_count": 12,
   "metadata": {},
   "outputs": [
    {
     "name": "stdout",
     "output_type": "stream",
     "text": [
      "int64\n",
      "43\n"
     ]
    }
   ],
   "source": [
    "print(data.dtype)\n",
    "print(data.size)"
   ]
  },
  {
   "cell_type": "code",
   "execution_count": 13,
   "metadata": {},
   "outputs": [
    {
     "data": {
      "text/plain": [
       "array([21, 20, 21, 24, 27, 26, 19, 31, 21, 24, 23, 27, 19, 29, 21, 15, 18,\n",
       "       22, 15, 31, 20, 24, 20, 22, 23, 20, 24, 17, 28, 24, 21, 19, 18, 27,\n",
       "       20, 20, 28, 16, 22, 25, 12, 13, 19])"
      ]
     },
     "execution_count": 13,
     "metadata": {},
     "output_type": "execute_result"
    }
   ],
   "source": [
    "np.random.choice(data, size=data.size, replace=False)"
   ]
  },
  {
   "cell_type": "code",
   "execution_count": 14,
   "metadata": {},
   "outputs": [
    {
     "data": {
      "text/plain": [
       "array([27, 20, 21, 26, 27, 31, 24, 21, 20, 19, 23, 24, 28, 19, 24, 29, 18,\n",
       "       20, 17, 31, 20, 25, 28, 21, 27, 21, 22, 15, 12, 21, 16, 19, 15, 22,\n",
       "       24, 19, 23, 13, 22, 20, 24, 18, 20])"
      ]
     },
     "execution_count": 14,
     "metadata": {},
     "output_type": "execute_result"
    }
   ],
   "source": [
    "data"
   ]
  },
  {
   "cell_type": "code",
   "execution_count": 15,
   "metadata": {},
   "outputs": [
    {
     "data": {
      "text/plain": [
       "array([20, 15, 31, 24, 18, 28, 27, 21, 21, 22, 21, 24, 23, 26, 19, 21, 19,\n",
       "       28, 15, 17, 29, 20, 18, 13, 21, 19, 23, 24, 12, 27, 20, 27, 19, 24,\n",
       "       24, 20, 25, 31, 20, 22, 16, 20, 22])"
      ]
     },
     "execution_count": 15,
     "metadata": {},
     "output_type": "execute_result"
    }
   ],
   "source": [
    "np.random.shuffle(data)\n",
    "data"
   ]
  },
  {
   "cell_type": "markdown",
   "metadata": {},
   "source": [
    "The difference between using np.random.choice and np.random.shuffle is that the first one does not alter the orginal data, while shuffle is 'in place'.\n",
    "For that reason we will recreate the file data."
   ]
  },
  {
   "cell_type": "markdown",
   "metadata": {},
   "source": [
    "### Using numpy\n",
    "\n",
    "First let's see the steps one by one."
   ]
  },
  {
   "cell_type": "code",
   "execution_count": 65,
   "metadata": {},
   "outputs": [
    {
     "data": {
      "text/plain": [
       "array([27, 20, 21, 26, 27, 31, 24, 21, 20, 19, 23, 24, 28, 19, 24, 29, 18,\n",
       "       20, 17, 31, 20, 25, 28, 21, 27, 21, 22, 15, 12, 21, 16, 19, 15, 22,\n",
       "       24, 19, 23, 13, 22, 20, 24, 18, 20])"
      ]
     },
     "execution_count": 65,
     "metadata": {},
     "output_type": "execute_result"
    }
   ],
   "source": [
    "mosquitos_data = pd.read_csv(file_path)\n",
    "data = np.array(mosquitos_data.Response)\n",
    "data"
   ]
  },
  {
   "cell_type": "code",
   "execution_count": 62,
   "metadata": {},
   "outputs": [
    {
     "name": "stdout",
     "output_type": "stream",
     "text": [
      "Beer     25\n",
      "Water    18\n",
      "Name: Treatment, dtype: int64\n"
     ]
    }
   ],
   "source": [
    "print(mosquitos_data.Treatment.value_counts())"
   ]
  },
  {
   "cell_type": "code",
   "execution_count": 82,
   "metadata": {
    "collapsed": true
   },
   "outputs": [],
   "source": [
    "data_split=np.split(np.random.choice(data, size=data.size, replace=False),[25,43])"
   ]
  },
  {
   "cell_type": "code",
   "execution_count": 83,
   "metadata": {},
   "outputs": [
    {
     "name": "stdout",
     "output_type": "stream",
     "text": [
      "[27 24 25 24 19 21 20 23 15 29 17 18 21 20 21 27 19 15 24 22 20 20 12 23 21]\n",
      "[20 19 22 16 21 31 13 18 22 31 28 24 28 20 26 24 19 27]\n"
     ]
    }
   ],
   "source": [
    "print(data_split[0])\n",
    "print(data_split[1])"
   ]
  },
  {
   "cell_type": "code",
   "execution_count": 84,
   "metadata": {},
   "outputs": [
    {
     "data": {
      "text/plain": [
       "[-1.6422222222222231]"
      ]
     },
     "execution_count": 84,
     "metadata": {},
     "output_type": "execute_result"
    }
   ],
   "source": [
    "all_diff=[]\n",
    "difference = data_split[0].mean()-data_split[1].mean()\n",
    "all_diff.append(difference)\n",
    "all_diff"
   ]
  },
  {
   "cell_type": "markdown",
   "metadata": {},
   "source": [
    "### Do the exercise"
   ]
  },
  {
   "cell_type": "code",
   "execution_count": 248,
   "metadata": {},
   "outputs": [
    {
     "name": "stdout",
     "output_type": "stream",
     "text": [
      "p =  0.0361 %\n"
     ]
    },
    {
     "data": {
      "image/png": "[encoded data removed]",
      "text/plain": [
       "<matplotlib.figure.Figure at 0x11478a7f0>"
      ]
     },
     "metadata": {},
     "output_type": "display_data"
    }
   ],
   "source": [
    "n_iter = 1000000\n",
    "all_diff=[]\n",
    "Ha = 0 \n",
    "for i in range(n_iter):\n",
    "        data_split=np.split(np.random.choice(data, size=data.size, replace=False),[25,43])\n",
    "        difference = data_split[0].mean()-data_split[1].mean()\n",
    "        all_diff.append(difference)\n",
    "        if difference >= 4.4:\n",
    "            Ha +=1\n",
    "                \n",
    "plt.hist(all_diff,bins = 250, color='b', alpha=0.3)\n",
    "print('p = ', Ha/n_iter*100, \"%\")"
   ]
  },
  {
   "cell_type": "markdown",
   "metadata": {},
   "source": [
    "### Using vectorized calculations and generators\n",
    "\n",
    "Whereas normal functions execute and return a single result at a time, generators return a sequence of multiple results lazily, pausing after each one until the next one is requested.\n",
    "\n",
    "First we will show the mechanics with a small file. We will scale-up later."
   ]
  },
  {
   "cell_type": "code",
   "execution_count": 173,
   "metadata": {},
   "outputs": [
    {
     "data": {
      "text/plain": [
       "array([[27, 20, 21, 26, 27, 31, 24, 21, 20, 19, 23, 24, 28, 19, 24, 29, 18,\n",
       "        20, 17, 31, 20, 25, 28, 21, 27, 21, 22, 15, 12, 21, 16, 19, 15, 22,\n",
       "        24, 19, 23, 13, 22, 20, 24, 18, 20],\n",
       "       [27, 20, 21, 26, 27, 31, 24, 21, 20, 19, 23, 24, 28, 19, 24, 29, 18,\n",
       "        20, 17, 31, 20, 25, 28, 21, 27, 21, 22, 15, 12, 21, 16, 19, 15, 22,\n",
       "        24, 19, 23, 13, 22, 20, 24, 18, 20],\n",
       "       [27, 20, 21, 26, 27, 31, 24, 21, 20, 19, 23, 24, 28, 19, 24, 29, 18,\n",
       "        20, 17, 31, 20, 25, 28, 21, 27, 21, 22, 15, 12, 21, 16, 19, 15, 22,\n",
       "        24, 19, 23, 13, 22, 20, 24, 18, 20],\n",
       "       [27, 20, 21, 26, 27, 31, 24, 21, 20, 19, 23, 24, 28, 19, 24, 29, 18,\n",
       "        20, 17, 31, 20, 25, 28, 21, 27, 21, 22, 15, 12, 21, 16, 19, 15, 22,\n",
       "        24, 19, 23, 13, 22, 20, 24, 18, 20],\n",
       "       [27, 20, 21, 26, 27, 31, 24, 21, 20, 19, 23, 24, 28, 19, 24, 29, 18,\n",
       "        20, 17, 31, 20, 25, 28, 21, 27, 21, 22, 15, 12, 21, 16, 19, 15, 22,\n",
       "        24, 19, 23, 13, 22, 20, 24, 18, 20]])"
      ]
     },
     "execution_count": 173,
     "metadata": {},
     "output_type": "execute_result"
    }
   ],
   "source": [
    "data_matrix = np.tile(data,(5,1))\n",
    "data_matrix"
   ]
  },
  {
   "cell_type": "code",
   "execution_count": 174,
   "metadata": {},
   "outputs": [
    {
     "data": {
      "text/plain": [
       "[None, None, None, None, None]"
      ]
     },
     "execution_count": 174,
     "metadata": {},
     "output_type": "execute_result"
    }
   ],
   "source": [
    "#Instead of using a loop I use an iterator.  \n",
    "#map is a lazy function, so I force the lazy iteration.\n",
    "list(map(np.random.shuffle, data_matrix))"
   ]
  },
  {
   "cell_type": "markdown",
   "metadata": {},
   "source": [
    "Notice that now every element of the array is shuffled."
   ]
  },
  {
   "cell_type": "code",
   "execution_count": 175,
   "metadata": {},
   "outputs": [
    {
     "data": {
      "text/plain": [
       "array([[27, 29, 25, 23, 26, 31, 21, 18, 28, 21, 31, 13, 24, 21, 19, 24, 20,\n",
       "        24, 27, 15, 20, 27, 28, 19, 17, 19, 20, 24, 22, 12, 20, 18, 21, 15,\n",
       "        20, 23, 22, 20, 19, 22, 24, 21, 16],\n",
       "       [20, 20, 15, 22, 19, 24, 19, 21, 31, 31, 12, 26, 22, 17, 24, 19, 20,\n",
       "        25, 20, 21, 23, 16, 24, 28, 18, 27, 19, 18, 24, 21, 29, 28, 23, 20,\n",
       "        27, 21, 24, 15, 13, 21, 27, 20, 22],\n",
       "       [16, 24, 19, 12, 27, 21, 27, 31, 22, 23, 22, 29, 18, 20, 19, 21, 17,\n",
       "        15, 20, 24, 26, 20, 22, 13, 20, 21, 21, 25, 24, 20, 18, 28, 21, 24,\n",
       "        27, 19, 28, 31, 23, 15, 20, 24, 19],\n",
       "       [27, 19, 28, 20, 17, 28, 20, 29, 21, 24, 24, 18, 22, 31, 19, 21, 12,\n",
       "        21, 21, 15, 31, 19, 15, 16, 23, 25, 13, 20, 24, 27, 18, 27, 26, 20,\n",
       "        20, 20, 21, 22, 19, 22, 23, 24, 24],\n",
       "       [31, 20, 21, 23, 29, 22, 21, 22, 12, 24, 19, 19, 27, 18, 21, 26, 20,\n",
       "        24, 25, 23, 28, 28, 20, 21, 24, 15, 24, 19, 19, 21, 18, 20, 31, 27,\n",
       "        15, 13, 17, 20, 20, 24, 22, 16, 27]])"
      ]
     },
     "execution_count": 175,
     "metadata": {},
     "output_type": "execute_result"
    }
   ],
   "source": [
    "data_matrix"
   ]
  },
  {
   "cell_type": "code",
   "execution_count": 180,
   "metadata": {
    "collapsed": true
   },
   "outputs": [],
   "source": [
    "array_split = np.split(data_matrix,[0,25],axis=1)  #[25,43] also works"
   ]
  },
  {
   "cell_type": "code",
   "execution_count": 181,
   "metadata": {},
   "outputs": [
    {
     "data": {
      "text/plain": [
       "[array([], shape=(5, 0), dtype=int64),\n",
       " array([[27, 29, 25, 23, 26, 31, 21, 18, 28, 21, 31, 13, 24, 21, 19, 24, 20,\n",
       "         24, 27, 15, 20, 27, 28, 19, 17],\n",
       "        [20, 20, 15, 22, 19, 24, 19, 21, 31, 31, 12, 26, 22, 17, 24, 19, 20,\n",
       "         25, 20, 21, 23, 16, 24, 28, 18],\n",
       "        [16, 24, 19, 12, 27, 21, 27, 31, 22, 23, 22, 29, 18, 20, 19, 21, 17,\n",
       "         15, 20, 24, 26, 20, 22, 13, 20],\n",
       "        [27, 19, 28, 20, 17, 28, 20, 29, 21, 24, 24, 18, 22, 31, 19, 21, 12,\n",
       "         21, 21, 15, 31, 19, 15, 16, 23],\n",
       "        [31, 20, 21, 23, 29, 22, 21, 22, 12, 24, 19, 19, 27, 18, 21, 26, 20,\n",
       "         24, 25, 23, 28, 28, 20, 21, 24]]),\n",
       " array([[19, 20, 24, 22, 12, 20, 18, 21, 15, 20, 23, 22, 20, 19, 22, 24, 21,\n",
       "         16],\n",
       "        [27, 19, 18, 24, 21, 29, 28, 23, 20, 27, 21, 24, 15, 13, 21, 27, 20,\n",
       "         22],\n",
       "        [21, 21, 25, 24, 20, 18, 28, 21, 24, 27, 19, 28, 31, 23, 15, 20, 24,\n",
       "         19],\n",
       "        [25, 13, 20, 24, 27, 18, 27, 26, 20, 20, 20, 21, 22, 19, 22, 23, 24,\n",
       "         24],\n",
       "        [15, 24, 19, 19, 21, 18, 20, 31, 27, 15, 13, 17, 20, 20, 24, 22, 16,\n",
       "         27]])]"
      ]
     },
     "execution_count": 181,
     "metadata": {},
     "output_type": "execute_result"
    }
   ],
   "source": [
    "array_split"
   ]
  },
  {
   "cell_type": "code",
   "execution_count": 197,
   "metadata": {},
   "outputs": [
    {
     "name": "stdout",
     "output_type": "stream",
     "text": [
      "Water\n",
      " [[19 20 24 22 12 20 18 21 15 20 23 22 20 19 22 24 21 16]\n",
      " [27 19 18 24 21 29 28 23 20 27 21 24 15 13 21 27 20 22]\n",
      " [21 21 25 24 20 18 28 21 24 27 19 28 31 23 15 20 24 19]\n",
      " [25 13 20 24 27 18 27 26 20 20 20 21 22 19 22 23 24 24]\n",
      " [15 24 19 19 21 18 20 31 27 15 13 17 20 20 24 22 16 27]]\n",
      "\n",
      " Beer\n",
      " [[27 29 25 23 26 31 21 18 28 21 31 13 24 21 19 24 20 24 27 15 20 27 28 19\n",
      "  17]\n",
      " [20 20 15 22 19 24 19 21 31 31 12 26 22 17 24 19 20 25 20 21 23 16 24 28\n",
      "  18]\n",
      " [16 24 19 12 27 21 27 31 22 23 22 29 18 20 19 21 17 15 20 24 26 20 22 13\n",
      "  20]\n",
      " [27 19 28 20 17 28 20 29 21 24 24 18 22 31 19 21 12 21 21 15 31 19 15 16\n",
      "  23]\n",
      " [31 20 21 23 29 22 21 22 12 24 19 19 27 18 21 26 20 24 25 23 28 28 20 21\n",
      "  24]]\n",
      "\n",
      " Beer means\n",
      " [ 23.12  21.48  21.12  21.64  22.72]\n",
      "\n",
      " Water means\n",
      " [ 19.88888889  22.16666667  22.66666667  21.94444444  20.44444444]\n",
      "\n",
      " Differences\n",
      " [ 3.23111111 -0.68666667 -1.54666667 -0.30444444  2.27555556]\n"
     ]
    }
   ],
   "source": [
    "Beer = np.array(array_split[1])\n",
    "Water = np.array(array_split[2])\n",
    "print('Water\\n',Water)\n",
    "print('\\n Beer\\n',Beer)\n",
    "\n",
    "Beer_means = Beer.mean(1)\n",
    "Water_means = Water.mean(1)\n",
    "Treatement_NullHyp = Beer_means - Water_means\n",
    "\n",
    "print('\\n Beer means\\n', Beer_means)\n",
    "print('\\n Water means\\n', Water_means)\n",
    "print('\\n Differences\\n',Treatement_NullHyp)"
   ]
  },
  {
   "cell_type": "markdown",
   "metadata": {},
   "source": [
    "### Scale Up"
   ]
  },
  {
   "cell_type": "code",
   "execution_count": 198,
   "metadata": {},
   "outputs": [
    {
     "data": {
      "text/plain": [
       "array([27, 20, 21, 26, 27, 31, 24, 21, 20, 19, 23, 24, 28, 19, 24, 29, 18,\n",
       "       20, 17, 31, 20, 25, 28, 21, 27, 21, 22, 15, 12, 21, 16, 19, 15, 22,\n",
       "       24, 19, 23, 13, 22, 20, 24, 18, 20])"
      ]
     },
     "execution_count": 198,
     "metadata": {},
     "output_type": "execute_result"
    }
   ],
   "source": [
    "data"
   ]
  },
  {
   "cell_type": "code",
   "execution_count": 249,
   "metadata": {},
   "outputs": [
    {
     "name": "stdout",
     "output_type": "stream",
     "text": [
      "p =  0.0361 %\n"
     ]
    },
    {
     "data": {
      "image/png": "[encoded data removed]",
      "text/plain": [
       "<matplotlib.figure.Figure at 0x114952630>"
      ]
     },
     "metadata": {},
     "output_type": "display_data"
    }
   ],
   "source": [
    "data_matrix = np.tile(data,(n_iter,1))\n",
    "list(map(np.random.shuffle, data_matrix))\n",
    "array_split = np.split(data_matrix,[0,25],axis=1)\n",
    "differences = np.array(array_split[1]).mean(1)- np.array(array_split[2]).mean(1)\n",
    "plt.hist(differences,bins = 250, color='b', alpha=0.3)\n",
    "p = (differences>=4.4).sum()/n_iter\n",
    "print('p = ', Ha/n_iter*100, \"%\")"
   ]
  },
  {
   "cell_type": "code",
   "execution_count": 239,
   "metadata": {},
   "outputs": [
    {
     "name": "stdout",
     "output_type": "stream",
     "text": [
      "1000 loops, best of 3: 1.41 ms per loop\n"
     ]
    }
   ],
   "source": [
    "%timeit (differences>=4.4).sum()  #check how fast it can do it!"
   ]
  },
  {
   "cell_type": "markdown",
   "metadata": {},
   "source": [
    "### Compare times of the different approaches"
   ]
  },
  {
   "cell_type": "code",
   "execution_count": 266,
   "metadata": {
    "collapsed": true
   },
   "outputs": [],
   "source": [
    "n_iter = 1000000\n",
    "def method1():\n",
    "    all_diff=[]\n",
    "    Ha = 0 \n",
    "    for i in range(n_iter):\n",
    "            data_split=np.split(np.random.choice(data, size=data.size, replace=False),[25,43])\n",
    "            difference = data_split[0].mean()-data_split[1].mean()\n",
    "            all_diff.append(difference)\n",
    "            if difference >= 4.4:\n",
    "                Ha +=1\n",
    "                \n",
    "    plt.hist(all_diff,bins = 250, color='b', alpha=0.3)\n",
    "    print('p = ', Ha/n_iter*100, \"%\")"
   ]
  },
  {
   "cell_type": "code",
   "execution_count": 267,
   "metadata": {},
   "outputs": [
    {
     "name": "stdout",
     "output_type": "stream",
     "text": [
      "p =  0.039 %\n",
      "p =  0.038400000000000004 %\n",
      "p =  0.0386 %\n",
      "p =  0.0397 %\n",
      "1 loop, best of 3: 43.6 s per loop\n"
     ]
    },
    {
     "data": {
      "image/png": "[encoded data removed]",
      "text/plain": [
       "<matplotlib.figure.Figure at 0x114590780>"
      ]
     },
     "metadata": {},
     "output_type": "display_data"
    }
   ],
   "source": [
    "%timeit method1()"
   ]
  },
  {
   "cell_type": "code",
   "execution_count": 264,
   "metadata": {
    "collapsed": true
   },
   "outputs": [],
   "source": [
    "def method2():\n",
    "    data_matrix = np.tile(data,(n_iter,1))\n",
    "    list(map(np.random.shuffle, data_matrix))\n",
    "    array_split = np.split(data_matrix,[0,25],axis=1)\n",
    "    differences = np.array(array_split[1]).mean(1)- np.array(array_split[2]).mean(1)\n",
    "    plt.hist(differences,bins = 250, color='b', alpha=0.3)\n",
    "    p = (differences>=4.4).sum()/n_iter\n",
    "    print('p = ', Ha/n_iter*100, \"%\")"
   ]
  },
  {
   "cell_type": "code",
   "execution_count": 265,
   "metadata": {},
   "outputs": [
    {
     "name": "stdout",
     "output_type": "stream",
     "text": [
      "p =  0.0361 %\n",
      "p =  0.0361 %\n",
      "p =  0.0361 %\n",
      "p =  0.0361 %\n",
      "1 loop, best of 3: 7.22 s per loop\n"
     ]
    },
    {
     "data": {
      "image/png": "[encoded data removed]",
      "text/plain": [
       "<matplotlib.figure.Figure at 0x113232860>"
      ]
     },
     "metadata": {},
     "output_type": "display_data"
    }
   ],
   "source": [
    "%timeit method2()"
   ]
  },
  {
   "cell_type": "code",
   "execution_count": 268,
   "metadata": {
    "collapsed": true
   },
   "outputs": [],
   "source": [
    "n_iter = 10000000"
   ]
  },
  {
   "cell_type": "code",
   "execution_count": 269,
   "metadata": {},
   "outputs": [
    {
     "name": "stdout",
     "output_type": "stream",
     "text": [
      "p =  0.03667 %\n",
      "p =  0.03588 %\n",
      "p =  0.03627 %\n",
      "p =  0.03745 %\n",
      "1 loop, best of 3: 7min 8s per loop\n"
     ]
    },
    {
     "data": {
      "image/png": "[encoded data removed]",
      "text/plain": [
       "<matplotlib.figure.Figure at 0x110e1bf60>"
      ]
     },
     "metadata": {},
     "output_type": "display_data"
    }
   ],
   "source": [
    "%timeit method1()"
   ]
  },
  {
   "cell_type": "code",
   "execution_count": 270,
   "metadata": {},
   "outputs": [
    {
     "name": "stdout",
     "output_type": "stream",
     "text": [
      "p =  0.0036100000000000004 %\n",
      "p =  0.0036100000000000004 %\n",
      "p =  0.0036100000000000004 %\n",
      "p =  0.0036100000000000004 %\n",
      "1 loop, best of 3: 1min 7s per loop\n"
     ]
    },
    {
     "data": {
      "image/png": "[encoded data removed]",
      "text/plain": [
       "<matplotlib.figure.Figure at 0x127747c50>"
      ]
     },
     "metadata": {},
     "output_type": "display_data"
    }
   ],
   "source": [
    "%timeit method2()"
   ]
  },
  {
   "cell_type": "markdown",
   "metadata": {},
   "source": [
    "#### Another way to time blocks of code"
   ]
  },
  {
   "cell_type": "code",
   "execution_count": 275,
   "metadata": {},
   "outputs": [
    {
     "name": "stdout",
     "output_type": "stream",
     "text": [
      "p =  0.034999999999999996 %\n",
      " "
     ]
    },
    {
     "data": {
      "image/png": "[encoded data removed]",
      "text/plain": [
       "<matplotlib.figure.Figure at 0x11c033e10>"
      ]
     },
     "metadata": {},
     "output_type": "display_data"
    }
   ],
   "source": [
    "%%prun\n",
    "n_iter = 100000\n",
    "\n",
    "all_diff=[]\n",
    "Ha = 0 \n",
    "for i in range(n_iter):\n",
    "        data_split=np.split(np.random.choice(data, size=data.size, replace=False),[25,43])\n",
    "        difference = data_split[0].mean()-data_split[1].mean()\n",
    "        all_diff.append(difference)\n",
    "        if difference >= 4.4:\n",
    "            Ha +=1\n",
    "                \n",
    "plt.hist(all_diff,bins = 250, color='b', alpha=0.3)\n",
    "print('p = ', Ha/n_iter*100, \"%\")"
   ]
  },
  {
   "cell_type": "markdown",
   "metadata": {},
   "source": [
    "----\n",
    "##### Output\n",
    "\n",
    "  5527655 function calls (5520738 primitive calls) in 6.558 seconds\n",
    "\n",
    "   Ordered by: internal time\n",
    "\n",
    "   ncalls  tottime  percall  cumtime  percall filename:lineno(function)\n",
    "   \n",
    "   100000    1.667    0.000    2.505    0.000 {method 'choice' of 'mtrand.RandomState' objects}\n",
    "   \n",
    "   301960    0.919    0.000    0.919    0.000 {method 'reduce' of 'numpy.ufunc' objects}\n",
    "   \n",
    "   ...\n",
    "   "
   ]
  },
  {
   "cell_type": "code",
   "execution_count": 277,
   "metadata": {},
   "outputs": [
    {
     "name": "stdout",
     "output_type": "stream",
     "text": [
      "p =  0.034999999999999996 %\n",
      " "
     ]
    },
    {
     "data": {
      "image/png": "[encoded data removed]",
      "text/plain": [
       "<matplotlib.figure.Figure at 0x1136c4be0>"
      ]
     },
     "metadata": {},
     "output_type": "display_data"
    }
   ],
   "source": [
    "%%prun\n",
    "data_matrix = np.tile(data,(n_iter,1))\n",
    "list(map(np.random.shuffle, data_matrix))\n",
    "array_split = np.split(data_matrix,[0,25],axis=1)\n",
    "differences = np.array(array_split[1]).mean(1)- np.array(array_split[2]).mean(1)\n",
    "plt.hist(differences,bins = 250, color='b', alpha=0.3)\n",
    "p = (differences>=4.4).sum()/n_iter\n",
    "print('p = ', Ha/n_iter*100, \"%\")"
   ]
  },
  {
   "cell_type": "markdown",
   "metadata": {},
   "source": [
    "---\n",
    "##### Output\n",
    "\n",
    " 727682 function calls (720765 primitive calls) in 1.187 seconds\n",
    "\n",
    "   Ordered by: internal time\n",
    "\n",
    "   ncalls  tottime  percall  cumtime  percall filename:lineno(function)\n",
    "   \n",
    "        1    0.702    0.702    1.187    1.187 <string>:2(<module>)\n",
    "        \n",
    "   200000    0.097    0.000    0.097    0.000 _internal.py:225(__init__)\n",
    "   "
   ]
  },
  {
   "cell_type": "code",
   "execution_count": null,
   "metadata": {
    "collapsed": true
   },
   "outputs": [],
   "source": []
  }
 ],
 "metadata": {
  "kernelspec": {
   "display_name": "Python 3",
   "language": "python",
   "name": "python3"
  },
  "language_info": {
   "codemirror_mode": {
    "name": "ipython",
    "version": 3
   },
   "file_extension": ".py",
   "mimetype": "text/x-python",
   "name": "python",
   "nbconvert_exporter": "python",
   "pygments_lexer": "ipython3",
   "version": "3.6.1"
  }
 },
 "nbformat": 4,
 "nbformat_minor": 2
}
