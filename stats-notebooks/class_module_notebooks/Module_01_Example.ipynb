{
 "cells": [
  {
   "cell_type": "markdown",
   "metadata": {},
   "source": [
    "## Module 01 - Useful Code Snippets"
   ]
  },
  {
   "cell_type": "markdown",
   "metadata": {},
   "source": [
    "Generate the random data"
   ]
  },
  {
   "cell_type": "code",
   "execution_count": 1,
   "metadata": {},
   "outputs": [
    {
     "data": {
      "text/html": [
       "<div>\n",
       "<style>\n",
       "    .dataframe thead tr:only-child th {\n",
       "        text-align: right;\n",
       "    }\n",
       "\n",
       "    .dataframe thead th {\n",
       "        text-align: left;\n",
       "    }\n",
       "\n",
       "    .dataframe tbody tr th {\n",
       "        vertical-align: top;\n",
       "    }\n",
       "</style>\n",
       "<table border=\"1\" class=\"dataframe\">\n",
       "  <thead>\n",
       "    <tr style=\"text-align: right;\">\n",
       "      <th></th>\n",
       "      <th>Data</th>\n",
       "      <th>Group</th>\n",
       "    </tr>\n",
       "  </thead>\n",
       "  <tbody>\n",
       "    <tr>\n",
       "      <th>0</th>\n",
       "      <td>-2.689729</td>\n",
       "      <td>Group 1</td>\n",
       "    </tr>\n",
       "    <tr>\n",
       "      <th>1</th>\n",
       "      <td>-1.393003</td>\n",
       "      <td>Group 1</td>\n",
       "    </tr>\n",
       "    <tr>\n",
       "      <th>2</th>\n",
       "      <td>-2.318629</td>\n",
       "      <td>Group 1</td>\n",
       "    </tr>\n",
       "    <tr>\n",
       "      <th>3</th>\n",
       "      <td>-1.568150</td>\n",
       "      <td>Group 1</td>\n",
       "    </tr>\n",
       "    <tr>\n",
       "      <th>4</th>\n",
       "      <td>-0.828737</td>\n",
       "      <td>Group 1</td>\n",
       "    </tr>\n",
       "  </tbody>\n",
       "</table>\n",
       "</div>"
      ],
      "text/plain": [
       "       Data    Group\n",
       "0 -2.689729  Group 1\n",
       "1 -1.393003  Group 1\n",
       "2 -2.318629  Group 1\n",
       "3 -1.568150  Group 1\n",
       "4 -0.828737  Group 1"
      ]
     },
     "execution_count": 1,
     "metadata": {},
     "output_type": "execute_result"
    }
   ],
   "source": [
    "import numpy as np\n",
    "import pandas as pd\n",
    "\n",
    "y0 = np.random.randn(50)-1\n",
    "y1 = np.random.randn(50)+1\n",
    "\n",
    "df = pd.DataFrame({\"Group\": len(y0) * [\"Group 1\"] + len(y1) * [\"Group 2\"], \"Data\": np.concatenate([y0, y1])})\n",
    "df.head()"
   ]
  },
  {
   "cell_type": "markdown",
   "metadata": {},
   "source": [
    "Generate the box and whisker plots using Plotly"
   ]
  },
  {
   "cell_type": "code",
   "execution_count": 2,
   "metadata": {},
   "outputs": [
    {
     "data": {
      "text/html": [
       "<script>requirejs.config({paths: { 'plotly': ['https://cdn.plot.ly/plotly-latest.min']},});if(!window.Plotly) {{require(['plotly'],function(plotly) {window.Plotly=plotly;});}}</script>"
      ],
      "text/vnd.plotly.v1+html": [
       "<script>requirejs.config({paths: { 'plotly': ['https://cdn.plot.ly/plotly-latest.min']},});if(!window.Plotly) {{require(['plotly'],function(plotly) {window.Plotly=plotly;});}}</script>"
      ]
     },
     "metadata": {},
     "output_type": "display_data"
    },
    {
     "data": {
      "application/vnd.plotly.v1+json": {
       "data": [
        {
         "name": "Group 1",
         "type": "box",
         "y": [
          -2.6897287317981355,
          -1.393002503356706,
          -2.318628946769576,
          -1.5681500857114394,
          -0.8287372649893691,
          -3.0967461150154785,
          -1.4388892844264678,
          -2.8745508638915283,
          -1.6855014879631431,
          -1.58619437055177,
          -1.614824134618245,
          -0.9277155227704285,
          -0.11787352533365314,
          -2.8217175905077907,
          -2.11303995523845,
          -1.4153272973683664,
          0.3170797183956271,
          -2.0137595193133713,
          -2.2213019597780908,
          -1.9977449566137728,
          -1.3707072650781524,
          -0.21606160405596198,
          0.7100867104976902,
          -1.007385228992628,
          0.1436404296277225,
          -0.4567712942298362,
          -1.2793551377891828,
          -0.1279855890726428,
          -1.9209225197212954,
          -1.9137350497440446,
          -0.8631201732804069,
          -1.2536354905878797,
          -1.593624261028189,
          -0.34295277320075246,
          0.14052772382834577,
          -1.5932847067192921,
          -0.6766197603840938,
          -0.5949283635953586,
          -1.4048802377774878,
          -0.9367704609092471,
          -1.179095561008328,
          0.12202542246861259,
          -1.5655624864648001,
          -2.1804680443228097,
          -0.29576205687251056,
          -0.715422608841386,
          -2.1583478632220716,
          -1.5212377369479841,
          -3.281400234806521,
          -1.8557858751593697
         ]
        },
        {
         "name": "Group 2",
         "type": "box",
         "y": [
          2.2485761091949743,
          0.3737242191530754,
          0.4556219015778573,
          0.22270678481837058,
          3.5175144574851664,
          2.1863691911718766,
          1.3720435512458202,
          0.9376028313231699,
          1.6511482283076073,
          1.8334434877704193,
          2.7791011697663297,
          0.6199937732970597,
          0.7825016489225747,
          2.8168079012281724,
          0.4691945501081545,
          1.634377851685956,
          1.8518298537986801,
          2.5254734304075086,
          1.9632590245397403,
          0.3179748118902328,
          -0.7439581237859481,
          0.09034881626184932,
          0.3387894564165824,
          0.716176292393023,
          0.006084246629920798,
          -0.0037868412573918153,
          0.5812054003170397,
          2.276202922384591,
          1.2899285616862919,
          1.1465632425979666,
          1.2419073781383985,
          -0.3601136829788818,
          0.5259407562329684,
          1.1172760649811122,
          2.206534948228087,
          1.7101102240495334,
          0.7507857181373848,
          1.6087961481873794,
          0.3703764019328065,
          1.6007236700816012,
          0.4417661822782426,
          0.45875426744084213,
          1.1166653369041941,
          0.10920310560289759,
          2.403999656225613,
          0.78985011212461,
          2.4317173994807124,
          0.05221441773850055,
          0.8265642399878368,
          -0.44111820538815527
         ]
        }
       ],
       "layout": {
        "title": "This is my Main Title",
        "xaxis": {
         "title": "Group"
        },
        "yaxis": {
         "title": "Count"
        }
       }
      },
      "text/html": [
       "<div id=\"52bf8596-0c77-4b84-b8e4-56fe29183b7d\" style=\"height: 525px; width: 100%;\" class=\"plotly-graph-div\"></div><script type=\"text/javascript\">require([\"plotly\"], function(Plotly) { window.PLOTLYENV=window.PLOTLYENV || {};window.PLOTLYENV.BASE_URL=\"https://plot.ly\";Plotly.newPlot(\"52bf8596-0c77-4b84-b8e4-56fe29183b7d\", [{\"type\": \"box\", \"y\": [-2.6897287317981355, -1.393002503356706, -2.318628946769576, -1.5681500857114394, -0.8287372649893691, -3.0967461150154785, -1.4388892844264678, -2.8745508638915283, -1.6855014879631431, -1.58619437055177, -1.614824134618245, -0.9277155227704285, -0.11787352533365314, -2.8217175905077907, -2.11303995523845, -1.4153272973683664, 0.3170797183956271, -2.0137595193133713, -2.2213019597780908, -1.9977449566137728, -1.3707072650781524, -0.21606160405596198, 0.7100867104976902, -1.007385228992628, 0.1436404296277225, -0.4567712942298362, -1.2793551377891828, -0.1279855890726428, -1.9209225197212954, -1.9137350497440446, -0.8631201732804069, -1.2536354905878797, -1.593624261028189, -0.34295277320075246, 0.14052772382834577, -1.5932847067192921, -0.6766197603840938, -0.5949283635953586, -1.4048802377774878, -0.9367704609092471, -1.179095561008328, 0.12202542246861259, -1.5655624864648001, -2.1804680443228097, -0.29576205687251056, -0.715422608841386, -2.1583478632220716, -1.5212377369479841, -3.281400234806521, -1.8557858751593697], \"name\": \"Group 1\"}, {\"type\": \"box\", \"y\": [2.2485761091949743, 0.3737242191530754, 0.4556219015778573, 0.22270678481837058, 3.5175144574851664, 2.1863691911718766, 1.3720435512458202, 0.9376028313231699, 1.6511482283076073, 1.8334434877704193, 2.7791011697663297, 0.6199937732970597, 0.7825016489225747, 2.8168079012281724, 0.4691945501081545, 1.634377851685956, 1.8518298537986801, 2.5254734304075086, 1.9632590245397403, 0.3179748118902328, -0.7439581237859481, 0.09034881626184932, 0.3387894564165824, 0.716176292393023, 0.006084246629920798, -0.0037868412573918153, 0.5812054003170397, 2.276202922384591, 1.2899285616862919, 1.1465632425979666, 1.2419073781383985, -0.3601136829788818, 0.5259407562329684, 1.1172760649811122, 2.206534948228087, 1.7101102240495334, 0.7507857181373848, 1.6087961481873794, 0.3703764019328065, 1.6007236700816012, 0.4417661822782426, 0.45875426744084213, 1.1166653369041941, 0.10920310560289759, 2.403999656225613, 0.78985011212461, 2.4317173994807124, 0.05221441773850055, 0.8265642399878368, -0.44111820538815527], \"name\": \"Group 2\"}], {\"title\": \"This is my Main Title\", \"yaxis\": {\"title\": \"Count\"}, \"xaxis\": {\"title\": \"Group\"}}, {\"showLink\": true, \"linkText\": \"Export to plot.ly\"})});</script>"
      ],
      "text/vnd.plotly.v1+html": [
       "<div id=\"52bf8596-0c77-4b84-b8e4-56fe29183b7d\" style=\"height: 525px; width: 100%;\" class=\"plotly-graph-div\"></div><script type=\"text/javascript\">require([\"plotly\"], function(Plotly) { window.PLOTLYENV=window.PLOTLYENV || {};window.PLOTLYENV.BASE_URL=\"https://plot.ly\";Plotly.newPlot(\"52bf8596-0c77-4b84-b8e4-56fe29183b7d\", [{\"type\": \"box\", \"y\": [-2.6897287317981355, -1.393002503356706, -2.318628946769576, -1.5681500857114394, -0.8287372649893691, -3.0967461150154785, -1.4388892844264678, -2.8745508638915283, -1.6855014879631431, -1.58619437055177, -1.614824134618245, -0.9277155227704285, -0.11787352533365314, -2.8217175905077907, -2.11303995523845, -1.4153272973683664, 0.3170797183956271, -2.0137595193133713, -2.2213019597780908, -1.9977449566137728, -1.3707072650781524, -0.21606160405596198, 0.7100867104976902, -1.007385228992628, 0.1436404296277225, -0.4567712942298362, -1.2793551377891828, -0.1279855890726428, -1.9209225197212954, -1.9137350497440446, -0.8631201732804069, -1.2536354905878797, -1.593624261028189, -0.34295277320075246, 0.14052772382834577, -1.5932847067192921, -0.6766197603840938, -0.5949283635953586, -1.4048802377774878, -0.9367704609092471, -1.179095561008328, 0.12202542246861259, -1.5655624864648001, -2.1804680443228097, -0.29576205687251056, -0.715422608841386, -2.1583478632220716, -1.5212377369479841, -3.281400234806521, -1.8557858751593697], \"name\": \"Group 1\"}, {\"type\": \"box\", \"y\": [2.2485761091949743, 0.3737242191530754, 0.4556219015778573, 0.22270678481837058, 3.5175144574851664, 2.1863691911718766, 1.3720435512458202, 0.9376028313231699, 1.6511482283076073, 1.8334434877704193, 2.7791011697663297, 0.6199937732970597, 0.7825016489225747, 2.8168079012281724, 0.4691945501081545, 1.634377851685956, 1.8518298537986801, 2.5254734304075086, 1.9632590245397403, 0.3179748118902328, -0.7439581237859481, 0.09034881626184932, 0.3387894564165824, 0.716176292393023, 0.006084246629920798, -0.0037868412573918153, 0.5812054003170397, 2.276202922384591, 1.2899285616862919, 1.1465632425979666, 1.2419073781383985, -0.3601136829788818, 0.5259407562329684, 1.1172760649811122, 2.206534948228087, 1.7101102240495334, 0.7507857181373848, 1.6087961481873794, 0.3703764019328065, 1.6007236700816012, 0.4417661822782426, 0.45875426744084213, 1.1166653369041941, 0.10920310560289759, 2.403999656225613, 0.78985011212461, 2.4317173994807124, 0.05221441773850055, 0.8265642399878368, -0.44111820538815527], \"name\": \"Group 2\"}], {\"title\": \"This is my Main Title\", \"yaxis\": {\"title\": \"Count\"}, \"xaxis\": {\"title\": \"Group\"}}, {\"showLink\": true, \"linkText\": \"Export to plot.ly\"})});</script>"
      ]
     },
     "metadata": {},
     "output_type": "display_data"
    }
   ],
   "source": [
    "from plotly.offline import download_plotlyjs, init_notebook_mode, plot, iplot\n",
    "init_notebook_mode(connected=True)\n",
    "import plotly.graph_objs as go\n",
    "\n",
    "trace0 = go.Box(y=y0, name=\"Group 1\")\n",
    "trace1 = go.Box(y=y1, name=\"Group 2\")\n",
    "data = [trace0, trace1] \n",
    "\n",
    "layout = go.Layout(\n",
    "    title='This is my Main Title',\n",
    "    yaxis=dict(\n",
    "        title='Count',\n",
    "    ),\n",
    "    xaxis=dict(\n",
    "        title='Group',\n",
    "    ),\n",
    ")\n",
    "\n",
    "fig = go.Figure(data=data, layout=layout)\n",
    "iplot(fig)"
   ]
  },
  {
   "cell_type": "markdown",
   "metadata": {},
   "source": [
    "Generate the box & whisker plots using Seaborn"
   ]
  },
  {
   "cell_type": "code",
   "execution_count": 3,
   "metadata": {},
   "outputs": [
    {
     "data": {
      "image/png": "[encoded data removed]",
      "text/plain": [
       "<matplotlib.figure.Figure at 0x111a870f0>"
      ]
     },
     "metadata": {},
     "output_type": "display_data"
    }
   ],
   "source": [
    "import seaborn as sns\n",
    "import matplotlib.pyplot as plt\n",
    "%matplotlib inline\n",
    "\n",
    "ax = sns.boxplot(x=\"Group\", y=\"Data\", data=df)\n",
    "ax.set(xlabel='Group', ylabel='Count', title=\"This is my Main Title\")\n",
    "plt.show()"
   ]
  },
  {
   "cell_type": "markdown",
   "metadata": {},
   "source": [
    "Generate the box & whisker plots using matplotlib"
   ]
  },
  {
   "cell_type": "code",
   "execution_count": 4,
   "metadata": {},
   "outputs": [
    {
     "data": {
      "text/plain": [
       "<matplotlib.figure.Figure at 0x111c03358>"
      ]
     },
     "metadata": {},
     "output_type": "display_data"
    },
    {
     "data": {
      "image/png": "[encoded data removed]",
      "text/plain": [
       "<matplotlib.figure.Figure at 0x111c38a58>"
      ]
     },
     "metadata": {},
     "output_type": "display_data"
    }
   ],
   "source": [
    "plt.figure() \n",
    "bp = df.boxplot(by='Group')            # Define how the plot should be generated\n",
    "plt.suptitle(\"\")                       # Remove automatic title\n",
    "bp.set_ylabel(\"Count\")                 # Set y-axis label\n",
    "bp.set_xlabel(\"Group\")                 # Set x-axis label\n",
    "bp.set_title(\"This is my Main Title\")  # Set graph title\n",
    "plt.show()"
   ]
  },
  {
   "cell_type": "markdown",
   "metadata": {},
   "source": [
    "Random Number selection"
   ]
  },
  {
   "cell_type": "code",
   "execution_count": 5,
   "metadata": {},
   "outputs": [
    {
     "data": {
      "text/plain": [
       "'Alice'"
      ]
     },
     "execution_count": 5,
     "metadata": {},
     "output_type": "execute_result"
    }
   ],
   "source": [
    "import random as rand\n",
    "my_best_friend = rand.choice([\"Alice\", \"Bob\", \"Charlie\"])\n",
    "my_best_friend"
   ]
  },
  {
   "cell_type": "code",
   "execution_count": 6,
   "metadata": {},
   "outputs": [
    {
     "data": {
      "text/plain": [
       "[14, 25, 3, 27, 49, 29]"
      ]
     },
     "execution_count": 6,
     "metadata": {},
     "output_type": "execute_result"
    }
   ],
   "source": [
    "lottery_numbers = range(60)\n",
    "winning_numbers = rand.sample(lottery_numbers, 6)\n",
    "winning_numbers"
   ]
  },
  {
   "cell_type": "code",
   "execution_count": 7,
   "metadata": {},
   "outputs": [
    {
     "data": {
      "text/plain": [
       "[10, 9, 7, 4, 2, 3, 6, 8, 1, 5]"
      ]
     },
     "execution_count": 7,
     "metadata": {},
     "output_type": "execute_result"
    }
   ],
   "source": [
    "example_list = [1, 2, 3, 4, 5, 6, 7, 8, 9, 10]\n",
    "np.random.shuffle(example_list)\n",
    "example_list"
   ]
  },
  {
   "cell_type": "markdown",
   "metadata": {},
   "source": [
    "Making a histogram (plotly)"
   ]
  },
  {
   "cell_type": "code",
   "execution_count": 8,
   "metadata": {},
   "outputs": [
    {
     "data": {
      "application/vnd.plotly.v1+json": {
       "data": [
        {
         "type": "histogram",
         "x": [
          -2.6897287317981355,
          -1.393002503356706,
          -2.318628946769576,
          -1.5681500857114394,
          -0.8287372649893691,
          -3.0967461150154785,
          -1.4388892844264678,
          -2.8745508638915283,
          -1.6855014879631431,
          -1.58619437055177,
          -1.614824134618245,
          -0.9277155227704285,
          -0.11787352533365314,
          -2.8217175905077907,
          -2.11303995523845,
          -1.4153272973683664,
          0.3170797183956271,
          -2.0137595193133713,
          -2.2213019597780908,
          -1.9977449566137728,
          -1.3707072650781524,
          -0.21606160405596198,
          0.7100867104976902,
          -1.007385228992628,
          0.1436404296277225,
          -0.4567712942298362,
          -1.2793551377891828,
          -0.1279855890726428,
          -1.9209225197212954,
          -1.9137350497440446,
          -0.8631201732804069,
          -1.2536354905878797,
          -1.593624261028189,
          -0.34295277320075246,
          0.14052772382834577,
          -1.5932847067192921,
          -0.6766197603840938,
          -0.5949283635953586,
          -1.4048802377774878,
          -0.9367704609092471,
          -1.179095561008328,
          0.12202542246861259,
          -1.5655624864648001,
          -2.1804680443228097,
          -0.29576205687251056,
          -0.715422608841386,
          -2.1583478632220716,
          -1.5212377369479841,
          -3.281400234806521,
          -1.8557858751593697
         ]
        }
       ],
       "layout": {
        "title": "This is my Main Title",
        "xaxis": {
         "title": "Value"
        },
        "yaxis": {
         "title": "Frequency"
        }
       }
      },
      "text/html": [
       "<div id=\"3d496cae-18ee-49dd-b4dc-0f8bd159e23e\" style=\"height: 525px; width: 100%;\" class=\"plotly-graph-div\"></div><script type=\"text/javascript\">require([\"plotly\"], function(Plotly) { window.PLOTLYENV=window.PLOTLYENV || {};window.PLOTLYENV.BASE_URL=\"https://plot.ly\";Plotly.newPlot(\"3d496cae-18ee-49dd-b4dc-0f8bd159e23e\", [{\"type\": \"histogram\", \"x\": [-2.6897287317981355, -1.393002503356706, -2.318628946769576, -1.5681500857114394, -0.8287372649893691, -3.0967461150154785, -1.4388892844264678, -2.8745508638915283, -1.6855014879631431, -1.58619437055177, -1.614824134618245, -0.9277155227704285, -0.11787352533365314, -2.8217175905077907, -2.11303995523845, -1.4153272973683664, 0.3170797183956271, -2.0137595193133713, -2.2213019597780908, -1.9977449566137728, -1.3707072650781524, -0.21606160405596198, 0.7100867104976902, -1.007385228992628, 0.1436404296277225, -0.4567712942298362, -1.2793551377891828, -0.1279855890726428, -1.9209225197212954, -1.9137350497440446, -0.8631201732804069, -1.2536354905878797, -1.593624261028189, -0.34295277320075246, 0.14052772382834577, -1.5932847067192921, -0.6766197603840938, -0.5949283635953586, -1.4048802377774878, -0.9367704609092471, -1.179095561008328, 0.12202542246861259, -1.5655624864648001, -2.1804680443228097, -0.29576205687251056, -0.715422608841386, -2.1583478632220716, -1.5212377369479841, -3.281400234806521, -1.8557858751593697]}], {\"title\": \"This is my Main Title\", \"yaxis\": {\"title\": \"Frequency\"}, \"xaxis\": {\"title\": \"Value\"}}, {\"showLink\": true, \"linkText\": \"Export to plot.ly\"})});</script>"
      ],
      "text/vnd.plotly.v1+html": [
       "<div id=\"3d496cae-18ee-49dd-b4dc-0f8bd159e23e\" style=\"height: 525px; width: 100%;\" class=\"plotly-graph-div\"></div><script type=\"text/javascript\">require([\"plotly\"], function(Plotly) { window.PLOTLYENV=window.PLOTLYENV || {};window.PLOTLYENV.BASE_URL=\"https://plot.ly\";Plotly.newPlot(\"3d496cae-18ee-49dd-b4dc-0f8bd159e23e\", [{\"type\": \"histogram\", \"x\": [-2.6897287317981355, -1.393002503356706, -2.318628946769576, -1.5681500857114394, -0.8287372649893691, -3.0967461150154785, -1.4388892844264678, -2.8745508638915283, -1.6855014879631431, -1.58619437055177, -1.614824134618245, -0.9277155227704285, -0.11787352533365314, -2.8217175905077907, -2.11303995523845, -1.4153272973683664, 0.3170797183956271, -2.0137595193133713, -2.2213019597780908, -1.9977449566137728, -1.3707072650781524, -0.21606160405596198, 0.7100867104976902, -1.007385228992628, 0.1436404296277225, -0.4567712942298362, -1.2793551377891828, -0.1279855890726428, -1.9209225197212954, -1.9137350497440446, -0.8631201732804069, -1.2536354905878797, -1.593624261028189, -0.34295277320075246, 0.14052772382834577, -1.5932847067192921, -0.6766197603840938, -0.5949283635953586, -1.4048802377774878, -0.9367704609092471, -1.179095561008328, 0.12202542246861259, -1.5655624864648001, -2.1804680443228097, -0.29576205687251056, -0.715422608841386, -2.1583478632220716, -1.5212377369479841, -3.281400234806521, -1.8557858751593697]}], {\"title\": \"This is my Main Title\", \"yaxis\": {\"title\": \"Frequency\"}, \"xaxis\": {\"title\": \"Value\"}}, {\"showLink\": true, \"linkText\": \"Export to plot.ly\"})});</script>"
      ]
     },
     "metadata": {},
     "output_type": "display_data"
    }
   ],
   "source": [
    "data = [go.Histogram(x=y0)]\n",
    "layout = go.Layout(\n",
    "    title='This is my Main Title',\n",
    "    yaxis=dict(\n",
    "        title='Frequency'\n",
    "    ),\n",
    "    xaxis=dict(\n",
    "        title='Value',\n",
    "    ))\n",
    "fig = go.Figure(data=data, layout=layout)\n",
    "\n",
    "iplot(fig)"
   ]
  },
  {
   "cell_type": "markdown",
   "metadata": {},
   "source": [
    "Making a histogram (matplotlib)"
   ]
  },
  {
   "cell_type": "code",
   "execution_count": 9,
   "metadata": {},
   "outputs": [
    {
     "data": {
      "image/png": "[encoded data removed]",
      "text/plain": [
       "<matplotlib.figure.Figure at 0x10c73f828>"
      ]
     },
     "metadata": {},
     "output_type": "display_data"
    }
   ],
   "source": [
    "plt.hist(y0)\n",
    "plt.suptitle(\"\")                       # Remove automatic title\n",
    "plt.ylabel(\"Frequency\")                # Set y-axis label\n",
    "plt.xlabel(\"Value\")                    # Set x-axis label\n",
    "plt.title(\"This is my Main Title\")     # Set graph title\n",
    "plt.show()"
   ]
  },
  {
   "cell_type": "code",
   "execution_count": 10,
   "metadata": {},
   "outputs": [
    {
     "data": {
      "image/png": "[encoded data removed]",
      "text/plain": [
       "<matplotlib.figure.Figure at 0x111f8cfd0>"
      ]
     },
     "metadata": {},
     "output_type": "display_data"
    }
   ],
   "source": [
    "sns.distplot(y0)\n",
    "plt.ylabel(\"Frequency\")                # Set y-axis label\n",
    "plt.xlabel(\"Value\")                    # Set x-axis label\n",
    "plt.title(\"This is my Main Title\")     # Set graph title\n",
    "plt.show()"
   ]
  }
 ],
 "metadata": {
  "kernelspec": {
   "display_name": "Python 3",
   "language": "python",
   "name": "python3"
  },
  "language_info": {
   "codemirror_mode": {
    "name": "ipython",
    "version": 3
   },
   "file_extension": ".py",
   "mimetype": "text/x-python",
   "name": "python",
   "nbconvert_exporter": "python",
   "pygments_lexer": "ipython3",
   "version": "3.6.2"
  }
 },
 "nbformat": 4,
 "nbformat_minor": 2
}
