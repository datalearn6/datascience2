{
 "cells": [
  {
   "cell_type": "markdown",
   "metadata": {
    "hideCode": false,
    "hidePrompt": false
   },
   "source": [
    "### Assignment 4 - ANOVA and Linear Regression\n",
    "By: \n"
   ]
  },
  {
   "cell_type": "code",
   "execution_count": 1,
   "metadata": {
    "hideCode": false,
    "hidePrompt": false
   },
   "outputs": [
    {
     "data": {
      "text/html": [
       "<script type=\"text/javascript\">window.PlotlyConfig = {MathJaxConfig: 'local'};</script><script type=\"text/javascript\">if (window.MathJax) {MathJax.Hub.Config({SVG: {font: \"STIX-Web\"}});}</script><script>requirejs.config({paths: { 'plotly': ['https://cdn.plot.ly/plotly-latest.min']},});if(!window._Plotly) {require(['plotly'],function(plotly) {window._Plotly=plotly;});}</script>"
      ],
      "text/vnd.plotly.v1+html": [
       "<script type=\"text/javascript\">window.PlotlyConfig = {MathJaxConfig: 'local'};</script><script type=\"text/javascript\">if (window.MathJax) {MathJax.Hub.Config({SVG: {font: \"STIX-Web\"}});}</script><script>requirejs.config({paths: { 'plotly': ['https://cdn.plot.ly/plotly-latest.min']},});if(!window._Plotly) {require(['plotly'],function(plotly) {window._Plotly=plotly;});}</script>"
      ]
     },
     "metadata": {},
     "output_type": "display_data"
    }
   ],
   "source": [
    "# Import statements here\n",
    "from IPython.display import Image\n",
    "import pandas as pd\n",
    "import numpy as np\n",
    "from scipy import stats\n",
    "%matplotlib inline\n",
    "import matplotlib.pyplot as plt\n",
    "from plotly.offline import download_plotlyjs, init_notebook_mode, plot, iplot\n",
    "init_notebook_mode(connected=True)\n",
    "import plotly.graph_objs as go\n",
    "from statsmodels.formula.api import ols\n",
    "import statsmodels.api as sm\n",
    "from sklearn import datasets, linear_model\n",
    "from sklearn.metrics import mean_squared_error, r2_score"
   ]
  },
  {
   "cell_type": "markdown",
   "metadata": {
    "hideCode": false,
    "hidePrompt": false
   },
   "source": [
    "<b>1. (20 Points)</b><br>Four common respiration treatment methods are being compared for effectiveness following bypass surgery (the results are in the attached CSV file - Assignment_4_ANOVA_data.csv). Does respiration method affect arterial oxygen level post-bypass?"
   ]
  },
  {
   "cell_type": "markdown",
   "metadata": {},
   "source": [
    "<b>(a) State the null and alternate hypotheses</b>"
   ]
  },
  {
   "cell_type": "markdown",
   "metadata": {},
   "source": [
    "Null Hypothesis : The mean for arterial oxygen is same for all the 4 respiration treatment \n",
    "Alternate Hypothesis : The mean for one of the 4 treatment is not same as the other treatments."
   ]
  },
  {
   "cell_type": "code",
   "execution_count": 2,
   "metadata": {},
   "outputs": [
    {
     "data": {
      "text/html": [
       "<div>\n",
       "<style scoped>\n",
       "    .dataframe tbody tr th:only-of-type {\n",
       "        vertical-align: middle;\n",
       "    }\n",
       "\n",
       "    .dataframe tbody tr th {\n",
       "        vertical-align: top;\n",
       "    }\n",
       "\n",
       "    .dataframe thead th {\n",
       "        text-align: right;\n",
       "    }\n",
       "</style>\n",
       "<table border=\"1\" class=\"dataframe\">\n",
       "  <thead>\n",
       "    <tr style=\"text-align: right;\">\n",
       "      <th></th>\n",
       "      <th>Treatment #1</th>\n",
       "      <th>Treatment #2</th>\n",
       "      <th>Treatment #3</th>\n",
       "      <th>Treatment #4</th>\n",
       "    </tr>\n",
       "  </thead>\n",
       "  <tbody>\n",
       "    <tr>\n",
       "      <th>3</th>\n",
       "      <td>97.0</td>\n",
       "      <td>81</td>\n",
       "      <td>85.0</td>\n",
       "      <td>95.0</td>\n",
       "    </tr>\n",
       "    <tr>\n",
       "      <th>4</th>\n",
       "      <td>99.0</td>\n",
       "      <td>91</td>\n",
       "      <td>84.0</td>\n",
       "      <td>90.0</td>\n",
       "    </tr>\n",
       "    <tr>\n",
       "      <th>5</th>\n",
       "      <td>86.0</td>\n",
       "      <td>84</td>\n",
       "      <td>76.0</td>\n",
       "      <td>94.0</td>\n",
       "    </tr>\n",
       "    <tr>\n",
       "      <th>6</th>\n",
       "      <td>94.0</td>\n",
       "      <td>81</td>\n",
       "      <td>85.0</td>\n",
       "      <td>95.0</td>\n",
       "    </tr>\n",
       "    <tr>\n",
       "      <th>7</th>\n",
       "      <td>89.0</td>\n",
       "      <td>83</td>\n",
       "      <td>75.0</td>\n",
       "      <td>96.0</td>\n",
       "    </tr>\n",
       "  </tbody>\n",
       "</table>\n",
       "</div>"
      ],
      "text/plain": [
       "   Treatment #1  Treatment #2  Treatment #3  Treatment #4\n",
       "3          97.0            81          85.0          95.0\n",
       "4          99.0            91          84.0          90.0\n",
       "5          86.0            84          76.0          94.0\n",
       "6          94.0            81          85.0          95.0\n",
       "7          89.0            83          75.0          96.0"
      ]
     },
     "execution_count": 2,
     "metadata": {},
     "output_type": "execute_result"
    }
   ],
   "source": [
    "treatment_data = pd.read_csv('assignment_4_ANOVA_data.csv')\n",
    "# Delete all the rows with NaN from the dataset as it would highly skew the means. ##Cleanup dataset \n",
    "treatment_data_cleaned = treatment_data.dropna()\n",
    "treatment_data_cleaned.tail()"
   ]
  },
  {
   "cell_type": "markdown",
   "metadata": {},
   "source": [
    "<b>(b) Declare an appropriate alpha value</b>"
   ]
  },
  {
   "cell_type": "markdown",
   "metadata": {},
   "source": [
    "Assume alpha = 0.005"
   ]
  },
  {
   "cell_type": "markdown",
   "metadata": {
    "hideCode": false,
    "hidePrompt": false
   },
   "source": [
    "<b>(c) Calcualte the test statistic</b>"
   ]
  },
  {
   "cell_type": "code",
   "execution_count": 3,
   "metadata": {},
   "outputs": [
    {
     "name": "stdout",
     "output_type": "stream",
     "text": [
      "[[ 89. 100.  75.  92.]\n",
      " [ 78.  91.  78.  93.]\n",
      " [ 91.  80.  77. 100.]\n",
      " [ 97.  81.  85.  95.]\n",
      " [ 99.  91.  84.  90.]\n",
      " [ 86.  84.  76.  94.]\n",
      " [ 94.  81.  85.  95.]\n",
      " [ 89.  83.  75.  96.]]\n",
      "28\n",
      "The f-statistic is 10.7134 with associated p-value of 0.0001\n"
     ]
    }
   ],
   "source": [
    "#group_treatment_1 = treatment_data_cleaned[1:]\n",
    "print (treatment_data_cleaned.values)\n",
    "groups = treatment_data_cleaned.values\n",
    "\n",
    "treatment_group_1 =  groups[:,0]\n",
    "treatment_group_2 =  groups[:,1]\n",
    "treatment_group_3 =  groups[:,2]\n",
    "treatment_group_4 =  groups[:,3]\n",
    "#print(treatment_group_1)\n",
    "#print(treatment_group_2)\n",
    "#print(treatment_group_3)\n",
    "#print(treatment_group_4)\n",
    "\n",
    "df_g = 3\n",
    "\n",
    "df1=treatment_group_1.__len__()\n",
    "df2=treatment_group_2.__len__()\n",
    "df3=treatment_group_3.__len__()\n",
    "df4=treatment_group_4.__len__()\n",
    "\n",
    "#print(df1)\n",
    "#print(df2)\n",
    "#print(df3)\n",
    "#print(df4)\n",
    "\n",
    "df_e = df1+df2+df3+df4 - 4\n",
    "\n",
    "print (df_e)\n",
    "\n",
    "mean_1 = np.mean(treatment_group_1)\n",
    "mean_2 = np.mean(treatment_group_2)\n",
    "mean_3 = np.mean(treatment_group_3)\n",
    "mean_4 = np.mean(treatment_group_4)\n",
    "\n",
    "overall_mean = sum(treatment_group_1 + treatment_group_2 + treatment_group_3 + treatment_group_4) / (df1 + df2 + df3 + df4)\n",
    "\n",
    "var_1 = np.var(treatment_group_1, ddof=1)\n",
    "var_2 = np.var(treatment_group_2, ddof=1)\n",
    "var_3 = np.var(treatment_group_3, ddof=1)\n",
    "var_4 = np.var(treatment_group_4, ddof=1)\n",
    "\n",
    "\n",
    "# Sum of squares between groups\n",
    "SSG = df1 * (mean_1 - overall_mean)**2 + df2 * (mean_2 - overall_mean)**2 + df3 * (mean_3 - overall_mean)**2 + df4 * (mean_4 - overall_mean)**2\n",
    "MSG = SSG / df_g\n",
    "\n",
    "\n",
    "# Sum of squares within groups\n",
    "SSE = ((df1 - 1) * var_1 + (df2 - 1) * var_2 + (df3 - 1) * var_3 + (df4 - 1) * var_4)\n",
    "MSE = SSE / df_e\n",
    "\n",
    "# f-statistic\n",
    "f = MSG/MSE\n",
    "p_value = 1 - stats.f.cdf(f, dfn=df_g, dfd=df_e)\n",
    "print(\"The f-statistic is %.4f with associated p-value of %.4f\" % (f, p_value))\n",
    "\n"
   ]
  },
  {
   "cell_type": "markdown",
   "metadata": {},
   "source": [
    "<b>(d) Determine the p-value corresponding to the test statistic</b>"
   ]
  },
  {
   "cell_type": "code",
   "execution_count": 4,
   "metadata": {
    "hideCode": false,
    "hidePrompt": false
   },
   "outputs": [
    {
     "data": {
      "text/plain": [
       "F_onewayResult(statistic=10.713422949542178, pvalue=7.32559360858555e-05)"
      ]
     },
     "execution_count": 4,
     "metadata": {},
     "output_type": "execute_result"
    }
   ],
   "source": [
    "stats.f_oneway(treatment_group_1, treatment_group_2, treatment_group_3, treatment_group_4)"
   ]
  },
  {
   "cell_type": "markdown",
   "metadata": {},
   "source": [
    "<b>(e) Present a conclusion</b>"
   ]
  },
  {
   "cell_type": "markdown",
   "metadata": {},
   "source": [
    "Since p-value of test is 0.0001 which is less than the significance value the null hypothesis cannot be rejected an"
   ]
  },
  {
   "cell_type": "markdown",
   "metadata": {
    "hideCode": false,
    "hidePrompt": false
   },
   "source": []
  },
  {
   "cell_type": "markdown",
   "metadata": {},
   "source": [
    "<b>2. (20 Points) OpenIntro Statistics 7.4 - Identify relationships, Part II.</b>For each of the six plots on page 357 (image attached here - 7_4_Image.png), identify the strength of the relationship (e.g. weak, moderate, or strong) in the data and whether fitting a linear model would be reasonable."
   ]
  },
  {
   "cell_type": "code",
   "execution_count": 5,
   "metadata": {},
   "outputs": [
    {
     "ename": "FileNotFoundError",
     "evalue": "[Errno 2] No such file or directory: '7_4_Image.png'",
     "output_type": "error",
     "traceback": [
      "\u001b[1;31m---------------------------------------------------------------------------\u001b[0m",
      "\u001b[1;31mFileNotFoundError\u001b[0m                         Traceback (most recent call last)",
      "\u001b[1;32m<ipython-input-5-754a60618e65>\u001b[0m in \u001b[0;36m<module>\u001b[1;34m\u001b[0m\n\u001b[1;32m----> 1\u001b[1;33m \u001b[0mImage\u001b[0m\u001b[1;33m(\u001b[0m\u001b[0mfilename\u001b[0m\u001b[1;33m=\u001b[0m\u001b[1;34m'7_4_Image.png'\u001b[0m\u001b[1;33m)\u001b[0m\u001b[1;33m\u001b[0m\u001b[0m\n\u001b[0m",
      "\u001b[1;32mC:\\install\\anaconda3\\envs\\datascience\\lib\\site-packages\\IPython\\core\\display.py\u001b[0m in \u001b[0;36m__init__\u001b[1;34m(self, data, url, filename, format, embed, width, height, retina, unconfined, metadata)\u001b[0m\n\u001b[0;32m   1184\u001b[0m         \u001b[0mself\u001b[0m\u001b[1;33m.\u001b[0m\u001b[0munconfined\u001b[0m \u001b[1;33m=\u001b[0m \u001b[0munconfined\u001b[0m\u001b[1;33m\u001b[0m\u001b[0m\n\u001b[0;32m   1185\u001b[0m         super(Image, self).__init__(data=data, url=url, filename=filename, \n\u001b[1;32m-> 1186\u001b[1;33m                 metadata=metadata)\n\u001b[0m\u001b[0;32m   1187\u001b[0m \u001b[1;33m\u001b[0m\u001b[0m\n\u001b[0;32m   1188\u001b[0m         \u001b[1;32mif\u001b[0m \u001b[0mself\u001b[0m\u001b[1;33m.\u001b[0m\u001b[0mwidth\u001b[0m \u001b[1;32mis\u001b[0m \u001b[1;32mNone\u001b[0m \u001b[1;32mand\u001b[0m \u001b[0mself\u001b[0m\u001b[1;33m.\u001b[0m\u001b[0mmetadata\u001b[0m\u001b[1;33m.\u001b[0m\u001b[0mget\u001b[0m\u001b[1;33m(\u001b[0m\u001b[1;34m'width'\u001b[0m\u001b[1;33m,\u001b[0m \u001b[1;33m{\u001b[0m\u001b[1;33m}\u001b[0m\u001b[1;33m)\u001b[0m\u001b[1;33m:\u001b[0m\u001b[1;33m\u001b[0m\u001b[0m\n",
      "\u001b[1;32mC:\\install\\anaconda3\\envs\\datascience\\lib\\site-packages\\IPython\\core\\display.py\u001b[0m in \u001b[0;36m__init__\u001b[1;34m(self, data, url, filename, metadata)\u001b[0m\n\u001b[0;32m    613\u001b[0m             \u001b[0mself\u001b[0m\u001b[1;33m.\u001b[0m\u001b[0mmetadata\u001b[0m \u001b[1;33m=\u001b[0m \u001b[1;33m{\u001b[0m\u001b[1;33m}\u001b[0m\u001b[1;33m\u001b[0m\u001b[0m\n\u001b[0;32m    614\u001b[0m \u001b[1;33m\u001b[0m\u001b[0m\n\u001b[1;32m--> 615\u001b[1;33m         \u001b[0mself\u001b[0m\u001b[1;33m.\u001b[0m\u001b[0mreload\u001b[0m\u001b[1;33m(\u001b[0m\u001b[1;33m)\u001b[0m\u001b[1;33m\u001b[0m\u001b[0m\n\u001b[0m\u001b[0;32m    616\u001b[0m         \u001b[0mself\u001b[0m\u001b[1;33m.\u001b[0m\u001b[0m_check_data\u001b[0m\u001b[1;33m(\u001b[0m\u001b[1;33m)\u001b[0m\u001b[1;33m\u001b[0m\u001b[0m\n\u001b[0;32m    617\u001b[0m \u001b[1;33m\u001b[0m\u001b[0m\n",
      "\u001b[1;32mC:\\install\\anaconda3\\envs\\datascience\\lib\\site-packages\\IPython\\core\\display.py\u001b[0m in \u001b[0;36mreload\u001b[1;34m(self)\u001b[0m\n\u001b[0;32m   1215\u001b[0m         \u001b[1;34m\"\"\"Reload the raw data from file or URL.\"\"\"\u001b[0m\u001b[1;33m\u001b[0m\u001b[0m\n\u001b[0;32m   1216\u001b[0m         \u001b[1;32mif\u001b[0m \u001b[0mself\u001b[0m\u001b[1;33m.\u001b[0m\u001b[0membed\u001b[0m\u001b[1;33m:\u001b[0m\u001b[1;33m\u001b[0m\u001b[0m\n\u001b[1;32m-> 1217\u001b[1;33m             \u001b[0msuper\u001b[0m\u001b[1;33m(\u001b[0m\u001b[0mImage\u001b[0m\u001b[1;33m,\u001b[0m\u001b[0mself\u001b[0m\u001b[1;33m)\u001b[0m\u001b[1;33m.\u001b[0m\u001b[0mreload\u001b[0m\u001b[1;33m(\u001b[0m\u001b[1;33m)\u001b[0m\u001b[1;33m\u001b[0m\u001b[0m\n\u001b[0m\u001b[0;32m   1218\u001b[0m             \u001b[1;32mif\u001b[0m \u001b[0mself\u001b[0m\u001b[1;33m.\u001b[0m\u001b[0mretina\u001b[0m\u001b[1;33m:\u001b[0m\u001b[1;33m\u001b[0m\u001b[0m\n\u001b[0;32m   1219\u001b[0m                 \u001b[0mself\u001b[0m\u001b[1;33m.\u001b[0m\u001b[0m_retina_shape\u001b[0m\u001b[1;33m(\u001b[0m\u001b[1;33m)\u001b[0m\u001b[1;33m\u001b[0m\u001b[0m\n",
      "\u001b[1;32mC:\\install\\anaconda3\\envs\\datascience\\lib\\site-packages\\IPython\\core\\display.py\u001b[0m in \u001b[0;36mreload\u001b[1;34m(self)\u001b[0m\n\u001b[0;32m    638\u001b[0m         \u001b[1;34m\"\"\"Reload the raw data from file or URL.\"\"\"\u001b[0m\u001b[1;33m\u001b[0m\u001b[0m\n\u001b[0;32m    639\u001b[0m         \u001b[1;32mif\u001b[0m \u001b[0mself\u001b[0m\u001b[1;33m.\u001b[0m\u001b[0mfilename\u001b[0m \u001b[1;32mis\u001b[0m \u001b[1;32mnot\u001b[0m \u001b[1;32mNone\u001b[0m\u001b[1;33m:\u001b[0m\u001b[1;33m\u001b[0m\u001b[0m\n\u001b[1;32m--> 640\u001b[1;33m             \u001b[1;32mwith\u001b[0m \u001b[0mopen\u001b[0m\u001b[1;33m(\u001b[0m\u001b[0mself\u001b[0m\u001b[1;33m.\u001b[0m\u001b[0mfilename\u001b[0m\u001b[1;33m,\u001b[0m \u001b[0mself\u001b[0m\u001b[1;33m.\u001b[0m\u001b[0m_read_flags\u001b[0m\u001b[1;33m)\u001b[0m \u001b[1;32mas\u001b[0m \u001b[0mf\u001b[0m\u001b[1;33m:\u001b[0m\u001b[1;33m\u001b[0m\u001b[0m\n\u001b[0m\u001b[0;32m    641\u001b[0m                 \u001b[0mself\u001b[0m\u001b[1;33m.\u001b[0m\u001b[0mdata\u001b[0m \u001b[1;33m=\u001b[0m \u001b[0mf\u001b[0m\u001b[1;33m.\u001b[0m\u001b[0mread\u001b[0m\u001b[1;33m(\u001b[0m\u001b[1;33m)\u001b[0m\u001b[1;33m\u001b[0m\u001b[0m\n\u001b[0;32m    642\u001b[0m         \u001b[1;32melif\u001b[0m \u001b[0mself\u001b[0m\u001b[1;33m.\u001b[0m\u001b[0murl\u001b[0m \u001b[1;32mis\u001b[0m \u001b[1;32mnot\u001b[0m \u001b[1;32mNone\u001b[0m\u001b[1;33m:\u001b[0m\u001b[1;33m\u001b[0m\u001b[0m\n",
      "\u001b[1;31mFileNotFoundError\u001b[0m: [Errno 2] No such file or directory: '7_4_Image.png'"
     ]
    }
   ],
   "source": [
    "Image(filename='7_4_Image.png') "
   ]
  },
  {
   "cell_type": "markdown",
   "metadata": {},
   "source": [
    "The relationships are:<br>\n",
    "<b>(a)</b> strong <br>   \n",
    "<b>(b)</b> strong <br>     \n",
    "<b>(c)</b> strong <br>   \n",
    "<b>(d)</b> weak <br>   \n",
    "<b>(e)</b> weak <br>   \n",
    "<b>(f)</b> moderate <br>   "
   ]
  },
  {
   "cell_type": "markdown",
   "metadata": {},
   "source": [
    "<b>3. (20 Points) OpenIntro Statistics 7.8 - Match the correlation, Part II.</b> Match the calculated correlations (below) to the corresponding scatterplot (image attached here - 7_8_Image.png).<br>\n",
    "a) r = 0.49<br>\n",
    "b) r = -0.48<br>\n",
    "c) r = -0.03<br>\n",
    "d) r = -0.85"
   ]
  },
  {
   "cell_type": "code",
   "execution_count": null,
   "metadata": {},
   "outputs": [],
   "source": [
    "Image(filename='7_8_Image.png') "
   ]
  },
  {
   "cell_type": "markdown",
   "metadata": {},
   "source": [
    "<b>(a)</b> 2 <br>\n",
    "<b>(b)</b> 3 <br>\n",
    "<b>(c)</b> 4  <br>\n",
    "<b>(d)</b> 1 <br>"
   ]
  },
  {
   "cell_type": "markdown",
   "metadata": {
    "hideCode": false,
    "hidePrompt": false
   },
   "source": [
    "<b>4. (40 Points) Husbands and Wives</b> Using the attached dataset (husbandsWives.csv), please answer the following questions:<br>\n",
    "<b>(a)</b> Write the equation of the regression line for predicting wife’s age from husband’s age."
   ]
  },
  {
   "cell_type": "code",
   "execution_count": null,
   "metadata": {},
   "outputs": [],
   "source": [
    "dataset = pd.read_csv('husbandsWives.csv')\n",
    "\n",
    "##Cleanup dataset \n",
    "dataset=dataset.dropna(subset=['Age_Husband','Age_Wife'])\n",
    "\n",
    "dataset.describe()"
   ]
  },
  {
   "cell_type": "code",
   "execution_count": null,
   "metadata": {},
   "outputs": [],
   "source": [
    "x_data = dataset['Age_Husband']\n",
    "y_data = dataset['Age_Wife']\n",
    "\n",
    "\n",
    "plt.figure(figsize=(8,4),dpi=100)\n",
    "plt.scatter(x_data, y_data, alpha=0.5, color='blue')\n",
    "plt.xlabel(dataset.columns[0])\n",
    "plt.ylabel(dataset.columns[2])\n",
    "plt.title('Scatterplot x vs y')\n",
    "plt.show()\n",
    "\n",
    "#y_data.tail(200)\n",
    "#print(x_data)"
   ]
  },
  {
   "cell_type": "code",
   "execution_count": null,
   "metadata": {},
   "outputs": [],
   "source": [
    "#print(stats.pearsonr(x_data, y_data))\n",
    "df=pd.DataFrame({\"Age_Husband\": x_data, \"Age_Wife\": y_data})\n",
    "model = ols(\"Age_Wife ~ Age_Husband\", data=df).fit()\n",
    "print(model.summary())"
   ]
  },
  {
   "cell_type": "markdown",
   "metadata": {},
   "source": [
    "<b>(b)</b> What does the slope of the equation from (a) tell us?"
   ]
  },
  {
   "cell_type": "markdown",
   "metadata": {},
   "source": [
    "Ans: Slope of the information tells us there is a linear relationship b/w husband age and wife's age (approx. 0.9112)"
   ]
  },
  {
   "cell_type": "markdown",
   "metadata": {},
   "source": [
    "<b>(c)</b> Given that R-squared = 0.88, what is the correlation of ages in this data set? "
   ]
  },
  {
   "cell_type": "code",
   "execution_count": null,
   "metadata": {},
   "outputs": [],
   "source": [
    "'Ans: It is a positive correlation b/w the age of husband and age of the wife.'"
   ]
  },
  {
   "cell_type": "markdown",
   "metadata": {},
   "source": [
    "<b>(d)</b> You meet a married man from Britain who is 55 years old. What would you predict his wife’s age to be? "
   ]
  },
  {
   "cell_type": "code",
   "execution_count": null,
   "metadata": {},
   "outputs": [],
   "source": [
    "#ans: y = mx + c\n",
    "x=55\n",
    "y=.9112*x + 1.5740\n",
    "\n",
    "#Age of wife would be as follows\n",
    "print (y)\n"
   ]
  },
  {
   "cell_type": "markdown",
   "metadata": {},
   "source": [
    "<b>(e)</b> You meet another married man from Britain who is 85 years old. Would it be wise to use the same linear model to predict his wife’s age? Explain."
   ]
  },
  {
   "cell_type": "markdown",
   "metadata": {},
   "source": [
    "Ans: This cannot be predicted as linear regression model only has married man age called out till 64 and hence would \n",
    "    not be a good case for prediction (while using an age = 85)"
   ]
  }
 ],
 "metadata": {
  "hide_code_all_hidden": false,
  "kernelspec": {
   "display_name": "Python 3",
   "language": "python",
   "name": "python3"
  },
  "language_info": {
   "codemirror_mode": {
    "name": "ipython",
    "version": 3
   },
   "file_extension": ".py",
   "mimetype": "text/x-python",
   "name": "python",
   "nbconvert_exporter": "python",
   "pygments_lexer": "ipython3",
   "version": "3.6.0"
  }
 },
 "nbformat": 4,
 "nbformat_minor": 2
}
