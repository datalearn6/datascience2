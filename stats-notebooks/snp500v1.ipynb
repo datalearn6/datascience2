{
 "cells": [
  {
   "cell_type": "code",
   "execution_count": 1,
   "metadata": {
    "_uuid": "7b47ff2bddb97abb5ba57cd1d2dd456e797a1d1d"
   },
   "outputs": [],
   "source": [
    "import pandas as pd\n",
    "import numpy as np\n",
    "import datetime as dt\n",
    "import matplotlib.pyplot as plt\n",
    "import seaborn as sns\n",
    "\n",
    "import datetime\n",
    "plt.style.use('ggplot')"
   ]
  },
  {
   "cell_type": "code",
   "execution_count": 2,
   "metadata": {
    "_uuid": "a5d4522f8fd021aef9c38b9eae7860d1f76f4c7f"
   },
   "outputs": [],
   "source": [
    "# useful functions\n",
    "# ================\n",
    "def total_return(prices):\n",
    "    \"\"\"Retuns the return between the first and last value of the DataFrame.\n",
    "\n",
    "    Parameters\n",
    "    ----------\n",
    "    prices : pandas.Series or pandas.DataFrame\n",
    "\n",
    "    Returns\n",
    "    -------\n",
    "    total_return : float or pandas.Series\n",
    "        Depending on the input passed returns a float or a pandas.Series.\n",
    "    \"\"\"\n",
    "    return prices.iloc[-1] / prices.iloc[0] - 1\n",
    "\n",
    "\n",
    "def total_return_from_returns(returns):\n",
    "    \"\"\"Retuns the return between the first and last value of the DataFrame.\n",
    "\n",
    "    Parameters\n",
    "    ----------\n",
    "    returns : pandas.Series or pandas.DataFrame\n",
    "\n",
    "    Returns\n",
    "    -------\n",
    "    total_return : float or pandas.Series\n",
    "        Depending on the input passed returns a float or a pandas.Series.\n",
    "    \"\"\"\n",
    "    return (returns + 1).prod() - 1\n",
    "\n",
    "def multi_period_return(period_returns):\n",
    "     return np.prod(period_returns + 1) - 1\n",
    "\n",
    "def plot_this(df, title, figsize=None, ylabel='',\n",
    "             output_file='imgs/fig.png', bottom_adj=0.25,\n",
    "             txt_ymin=-0.4, bar=False):\n",
    "    if bar:\n",
    "        ax = df.plot.bar(title=title, figsize=figsize)\n",
    "    else:\n",
    "        ax = df.plot(title=title, figsize=figsize)\n",
    "    sns.despine()\n",
    "    plt.ylabel(ylabel)\n",
    "    plt.tight_layout()\n",
    "    plt.text(0, txt_ymin, asset_info, transform=ax.transAxes, fontsize=9)\n",
    "    plt.gcf().subplots_adjust(bottom=bottom_adj)\n",
    "    plt.savefig(output_file, **kw_save)"
   ]
  },
  {
   "cell_type": "code",
   "execution_count": 3,
   "metadata": {
    "_uuid": "f82628068170289cd26824f02084a8db064527f0"
   },
   "outputs": [
    {
     "name": "stdout",
     "output_type": "stream",
     "text": [
      "Index(['open', 'high', 'low', 'close', 'adjclose', 'volume'], dtype='object')\n"
     ]
    },
    {
     "data": {
      "text/html": [
       "<div>\n",
       "<style scoped>\n",
       "    .dataframe tbody tr th:only-of-type {\n",
       "        vertical-align: middle;\n",
       "    }\n",
       "\n",
       "    .dataframe tbody tr th {\n",
       "        vertical-align: top;\n",
       "    }\n",
       "\n",
       "    .dataframe thead th {\n",
       "        text-align: right;\n",
       "    }\n",
       "</style>\n",
       "<table border=\"1\" class=\"dataframe\">\n",
       "  <thead>\n",
       "    <tr style=\"text-align: right;\">\n",
       "      <th></th>\n",
       "      <th>open</th>\n",
       "      <th>high</th>\n",
       "      <th>low</th>\n",
       "      <th>close</th>\n",
       "      <th>adjclose</th>\n",
       "      <th>volume</th>\n",
       "    </tr>\n",
       "  </thead>\n",
       "  <tbody>\n",
       "    <tr>\n",
       "      <th>count</th>\n",
       "      <td>7274.000000</td>\n",
       "      <td>7274.000000</td>\n",
       "      <td>7274.000000</td>\n",
       "      <td>7274.000000</td>\n",
       "      <td>7274.000000</td>\n",
       "      <td>7.274000e+03</td>\n",
       "    </tr>\n",
       "    <tr>\n",
       "      <th>mean</th>\n",
       "      <td>1203.299483</td>\n",
       "      <td>1210.293744</td>\n",
       "      <td>1195.826012</td>\n",
       "      <td>1203.553540</td>\n",
       "      <td>1203.553540</td>\n",
       "      <td>2.130960e+09</td>\n",
       "    </tr>\n",
       "    <tr>\n",
       "      <th>std</th>\n",
       "      <td>602.232272</td>\n",
       "      <td>604.422513</td>\n",
       "      <td>599.807315</td>\n",
       "      <td>602.228652</td>\n",
       "      <td>602.228652</td>\n",
       "      <td>1.764898e+09</td>\n",
       "    </tr>\n",
       "    <tr>\n",
       "      <th>min</th>\n",
       "      <td>295.450012</td>\n",
       "      <td>301.450012</td>\n",
       "      <td>294.510010</td>\n",
       "      <td>295.459991</td>\n",
       "      <td>295.459991</td>\n",
       "      <td>1.499000e+07</td>\n",
       "    </tr>\n",
       "    <tr>\n",
       "      <th>25%</th>\n",
       "      <td>770.550019</td>\n",
       "      <td>777.917481</td>\n",
       "      <td>763.404984</td>\n",
       "      <td>770.167496</td>\n",
       "      <td>770.167496</td>\n",
       "      <td>4.866900e+08</td>\n",
       "    </tr>\n",
       "    <tr>\n",
       "      <th>50%</th>\n",
       "      <td>1173.785034</td>\n",
       "      <td>1182.054993</td>\n",
       "      <td>1165.660034</td>\n",
       "      <td>1173.815002</td>\n",
       "      <td>1173.815002</td>\n",
       "      <td>1.546375e+09</td>\n",
       "    </tr>\n",
       "    <tr>\n",
       "      <th>75%</th>\n",
       "      <td>1439.007507</td>\n",
       "      <td>1449.200012</td>\n",
       "      <td>1430.515015</td>\n",
       "      <td>1439.617462</td>\n",
       "      <td>1439.617462</td>\n",
       "      <td>3.505905e+09</td>\n",
       "    </tr>\n",
       "    <tr>\n",
       "      <th>max</th>\n",
       "      <td>2936.760010</td>\n",
       "      <td>2940.909912</td>\n",
       "      <td>2927.110107</td>\n",
       "      <td>2930.750000</td>\n",
       "      <td>2930.750000</td>\n",
       "      <td>1.145623e+10</td>\n",
       "    </tr>\n",
       "  </tbody>\n",
       "</table>\n",
       "</div>"
      ],
      "text/plain": [
       "              open         high          low        close     adjclose  \\\n",
       "count  7274.000000  7274.000000  7274.000000  7274.000000  7274.000000   \n",
       "mean   1203.299483  1210.293744  1195.826012  1203.553540  1203.553540   \n",
       "std     602.232272   604.422513   599.807315   602.228652   602.228652   \n",
       "min     295.450012   301.450012   294.510010   295.459991   295.459991   \n",
       "25%     770.550019   777.917481   763.404984   770.167496   770.167496   \n",
       "50%    1173.785034  1182.054993  1165.660034  1173.815002  1173.815002   \n",
       "75%    1439.007507  1449.200012  1430.515015  1439.617462  1439.617462   \n",
       "max    2936.760010  2940.909912  2927.110107  2930.750000  2930.750000   \n",
       "\n",
       "             volume  \n",
       "count  7.274000e+03  \n",
       "mean   2.130960e+09  \n",
       "std    1.764898e+09  \n",
       "min    1.499000e+07  \n",
       "25%    4.866900e+08  \n",
       "50%    1.546375e+09  \n",
       "75%    3.505905e+09  \n",
       "max    1.145623e+10  "
      ]
     },
     "execution_count": 3,
     "metadata": {},
     "output_type": "execute_result"
    }
   ],
   "source": [
    "## SP500 contains the monthly datasets for S&P figures\n",
    "\n",
    "#sp_data = pd.read_csv('sp500.csv')\n",
    "sp_data = pd.read_csv('sp500.csv',\n",
    "                      header=0,\n",
    "                      names=['timepoint','open','high','low','close','adjclose','volume'],\n",
    "                      parse_dates=True,index_col=0)\n",
    "\n",
    "\n",
    "savings_data = pd.read_csv('savings_interest.csv',\n",
    "                      header=0,\n",
    "                      names=['timepoint','rate'],\n",
    "                      parse_dates=True,index_col=0)\n",
    "\n",
    "\n",
    "savings_data = savings_data[datetime.date(year=1990,month=1,day=1):datetime.date(year=2017,month=4,day=1)]\n",
    "\n",
    "\n",
    "\n",
    "#sp_data_adjclose = sp_data[['Date','Adj Close']]\n",
    "\n",
    "#sp_data_adjclose = sp_data_adjclose.astype({\"Date\":dt.date,\"Adj Close\":np.float})\n",
    "\n",
    "print(sp_data.columns)\n",
    "\n",
    "sp_data.describe()\n",
    "\n",
    "\n",
    "\n",
    "\n",
    "#print(sp_data_adjclose.columns)"
   ]
  },
  {
   "cell_type": "code",
   "execution_count": 4,
   "metadata": {},
   "outputs": [
    {
     "name": "stdout",
     "output_type": "stream",
     "text": [
      "Index(['rate'], dtype='object')\n"
     ]
    },
    {
     "data": {
      "text/html": [
       "<div>\n",
       "<style scoped>\n",
       "    .dataframe tbody tr th:only-of-type {\n",
       "        vertical-align: middle;\n",
       "    }\n",
       "\n",
       "    .dataframe tbody tr th {\n",
       "        vertical-align: top;\n",
       "    }\n",
       "\n",
       "    .dataframe thead th {\n",
       "        text-align: right;\n",
       "    }\n",
       "</style>\n",
       "<table border=\"1\" class=\"dataframe\">\n",
       "  <thead>\n",
       "    <tr style=\"text-align: right;\">\n",
       "      <th></th>\n",
       "      <th>rate</th>\n",
       "    </tr>\n",
       "  </thead>\n",
       "  <tbody>\n",
       "    <tr>\n",
       "      <th>count</th>\n",
       "      <td>328.000000</td>\n",
       "    </tr>\n",
       "    <tr>\n",
       "      <th>mean</th>\n",
       "      <td>3.601372</td>\n",
       "    </tr>\n",
       "    <tr>\n",
       "      <th>std</th>\n",
       "      <td>2.884788</td>\n",
       "    </tr>\n",
       "    <tr>\n",
       "      <th>min</th>\n",
       "      <td>0.170000</td>\n",
       "    </tr>\n",
       "    <tr>\n",
       "      <th>25%</th>\n",
       "      <td>0.970000</td>\n",
       "    </tr>\n",
       "    <tr>\n",
       "      <th>50%</th>\n",
       "      <td>3.128500</td>\n",
       "    </tr>\n",
       "    <tr>\n",
       "      <th>75%</th>\n",
       "      <td>4.856500</td>\n",
       "    </tr>\n",
       "    <tr>\n",
       "      <th>max</th>\n",
       "      <td>13.670000</td>\n",
       "    </tr>\n",
       "  </tbody>\n",
       "</table>\n",
       "</div>"
      ],
      "text/plain": [
       "             rate\n",
       "count  328.000000\n",
       "mean     3.601372\n",
       "std      2.884788\n",
       "min      0.170000\n",
       "25%      0.970000\n",
       "50%      3.128500\n",
       "75%      4.856500\n",
       "max     13.670000"
      ]
     },
     "execution_count": 4,
     "metadata": {},
     "output_type": "execute_result"
    }
   ],
   "source": [
    "print(savings_data.columns)\n",
    "\n",
    "savings_data.describe()\n"
   ]
  },
  {
   "cell_type": "code",
   "execution_count": 5,
   "metadata": {},
   "outputs": [
    {
     "data": {
      "text/html": [
       "<div>\n",
       "<style scoped>\n",
       "    .dataframe tbody tr th:only-of-type {\n",
       "        vertical-align: middle;\n",
       "    }\n",
       "\n",
       "    .dataframe tbody tr th {\n",
       "        vertical-align: top;\n",
       "    }\n",
       "\n",
       "    .dataframe thead th {\n",
       "        text-align: right;\n",
       "    }\n",
       "</style>\n",
       "<table border=\"1\" class=\"dataframe\">\n",
       "  <thead>\n",
       "    <tr style=\"text-align: right;\">\n",
       "      <th></th>\n",
       "      <th>open</th>\n",
       "      <th>high</th>\n",
       "      <th>low</th>\n",
       "      <th>close</th>\n",
       "      <th>adjclose</th>\n",
       "      <th>volume</th>\n",
       "    </tr>\n",
       "  </thead>\n",
       "  <tbody>\n",
       "    <tr>\n",
       "      <th>count</th>\n",
       "      <td>10539.000000</td>\n",
       "      <td>10539.000000</td>\n",
       "      <td>10539.000000</td>\n",
       "      <td>10539.000000</td>\n",
       "      <td>10539.000000</td>\n",
       "      <td>1.053900e+04</td>\n",
       "    </tr>\n",
       "    <tr>\n",
       "      <th>mean</th>\n",
       "      <td>1203.751125</td>\n",
       "      <td>1210.635869</td>\n",
       "      <td>1196.317005</td>\n",
       "      <td>1203.985722</td>\n",
       "      <td>1203.985722</td>\n",
       "      <td>2.121681e+09</td>\n",
       "    </tr>\n",
       "    <tr>\n",
       "      <th>std</th>\n",
       "      <td>601.287947</td>\n",
       "      <td>603.471900</td>\n",
       "      <td>598.909589</td>\n",
       "      <td>601.313592</td>\n",
       "      <td>601.313592</td>\n",
       "      <td>1.773129e+09</td>\n",
       "    </tr>\n",
       "    <tr>\n",
       "      <th>min</th>\n",
       "      <td>295.450012</td>\n",
       "      <td>301.450012</td>\n",
       "      <td>294.510010</td>\n",
       "      <td>295.459991</td>\n",
       "      <td>295.459991</td>\n",
       "      <td>1.499000e+07</td>\n",
       "    </tr>\n",
       "    <tr>\n",
       "      <th>25%</th>\n",
       "      <td>774.244995</td>\n",
       "      <td>779.985016</td>\n",
       "      <td>766.200012</td>\n",
       "      <td>773.760010</td>\n",
       "      <td>773.760010</td>\n",
       "      <td>4.837950e+08</td>\n",
       "    </tr>\n",
       "    <tr>\n",
       "      <th>50%</th>\n",
       "      <td>1173.800049</td>\n",
       "      <td>1182.239990</td>\n",
       "      <td>1166.709961</td>\n",
       "      <td>1173.969971</td>\n",
       "      <td>1173.969971</td>\n",
       "      <td>1.531600e+09</td>\n",
       "    </tr>\n",
       "    <tr>\n",
       "      <th>75%</th>\n",
       "      <td>1440.215027</td>\n",
       "      <td>1448.930054</td>\n",
       "      <td>1430.150024</td>\n",
       "      <td>1439.105041</td>\n",
       "      <td>1439.105041</td>\n",
       "      <td>3.490785e+09</td>\n",
       "    </tr>\n",
       "    <tr>\n",
       "      <th>max</th>\n",
       "      <td>2936.760010</td>\n",
       "      <td>2940.909912</td>\n",
       "      <td>2927.110107</td>\n",
       "      <td>2930.750000</td>\n",
       "      <td>2930.750000</td>\n",
       "      <td>1.145623e+10</td>\n",
       "    </tr>\n",
       "  </tbody>\n",
       "</table>\n",
       "</div>"
      ],
      "text/plain": [
       "               open          high           low         close      adjclose  \\\n",
       "count  10539.000000  10539.000000  10539.000000  10539.000000  10539.000000   \n",
       "mean    1203.751125   1210.635869   1196.317005   1203.985722   1203.985722   \n",
       "std      601.287947    603.471900    598.909589    601.313592    601.313592   \n",
       "min      295.450012    301.450012    294.510010    295.459991    295.459991   \n",
       "25%      774.244995    779.985016    766.200012    773.760010    773.760010   \n",
       "50%     1173.800049   1182.239990   1166.709961   1173.969971   1173.969971   \n",
       "75%     1440.215027   1448.930054   1430.150024   1439.105041   1439.105041   \n",
       "max     2936.760010   2940.909912   2927.110107   2930.750000   2930.750000   \n",
       "\n",
       "             volume  \n",
       "count  1.053900e+04  \n",
       "mean   2.121681e+09  \n",
       "std    1.773129e+09  \n",
       "min    1.499000e+07  \n",
       "25%    4.837950e+08  \n",
       "50%    1.531600e+09  \n",
       "75%    3.490785e+09  \n",
       "max    1.145623e+10  "
      ]
     },
     "execution_count": 5,
     "metadata": {},
     "output_type": "execute_result"
    }
   ],
   "source": [
    "sp_data = sp_data.asfreq(freq='1D', method='ffill')\n",
    "\n",
    "sp_data.describe()"
   ]
  },
  {
   "cell_type": "code",
   "execution_count": 5,
   "metadata": {},
   "outputs": [
    {
     "data": {
      "text/plain": [
       "[<matplotlib.lines.Line2D at 0x21c600269e8>]"
      ]
     },
     "execution_count": 5,
     "metadata": {},
     "output_type": "execute_result"
    },
    {
     "data": {
      "image/png": "[encoded data removed]",
      "text/plain": [
       "<Figure size 432x288 with 1 Axes>"
      ]
     },
     "metadata": {
      "needs_background": "light"
     },
     "output_type": "display_data"
    }
   ],
   "source": [
    "savings_data = savings_data.asfreq(freq='1D', method='ffill')\n",
    "\n",
    "#savings_data.describe()\n",
    "\n",
    "plt.plot(savings_data['rate'], label='Rate')"
   ]
  },
  {
   "cell_type": "code",
   "execution_count": 6,
   "metadata": {
    "_uuid": "e1c2d73a08b32c2356dc804b381dec872d5ba990"
   },
   "outputs": [
    {
     "data": {
      "text/plain": [
       "[<matplotlib.lines.Line2D at 0x21c60138898>]"
      ]
     },
     "execution_count": 6,
     "metadata": {},
     "output_type": "execute_result"
    },
    {
     "data": {
      "image/png": "[encoded data removed]",
      "text/plain": [
       "<Figure size 432x288 with 1 Axes>"
      ]
     },
     "metadata": {
      "needs_background": "light"
     },
     "output_type": "display_data"
    }
   ],
   "source": [
    "start = dt.datetime(1995,1,1)\n",
    "end = dt.datetime(2018,1,1)\n",
    "\n",
    "\n",
    "\n",
    "sp_data['year'] = sp_data.index.year\n",
    "sp_data['month'] = sp_data.index.month\n",
    "sp_data['day'] = sp_data.index.day\n",
    "\n",
    "\n",
    "\n",
    "#print(sp_data)\n",
    "\n",
    "plt.plot(sp_data['adjclose'], label='Adj Close')\n",
    "\n"
   ]
  },
  {
   "cell_type": "code",
   "execution_count": 7,
   "metadata": {
    "_uuid": "83043758ac71fec5a2e2ac5802f7644ec3c181e8"
   },
   "outputs": [],
   "source": [
    "plt.show()"
   ]
  },
  {
   "cell_type": "code",
   "execution_count": 8,
   "metadata": {
    "_uuid": "697f8a8bd6e628eaf39b57d5a7a86d661d641224",
    "scrolled": true
   },
   "outputs": [
    {
     "name": "stderr",
     "output_type": "stream",
     "text": [
      "C:\\install\\anaconda3\\envs\\datascience\\lib\\site-packages\\ipykernel_launcher.py:5: FutureWarning: Currently, 'apply' passes the values as ndarrays to the applied function. In the future, this will change to passing it as Series objects. You need to specify 'raw=True' to keep the current behaviour, and you can pass 'raw=False' to silence this warning\n",
      "  \"\"\"\n"
     ]
    },
    {
     "name": "stdout",
     "output_type": "stream",
     "text": [
      "                rate\n",
      "timepoint           \n",
      "1990-01-01  0.123400\n",
      "1990-01-02  0.123400\n",
      "1990-01-03  0.123400\n",
      "1990-01-04  0.123400\n",
      "1990-01-05  0.123400\n",
      "1990-01-06  0.123400\n",
      "1990-01-07  0.123400\n",
      "1990-01-08  0.123400\n",
      "1990-01-09  0.123400\n",
      "1990-01-10  0.123400\n",
      "1990-01-11  0.123400\n",
      "1990-01-12  0.123400\n",
      "1990-01-13  0.123400\n",
      "1990-01-14  0.123400\n",
      "1990-01-15  0.123400\n",
      "1990-01-16  0.123400\n",
      "1990-01-17  0.123400\n",
      "1990-01-18  0.123400\n",
      "1990-01-19  0.123400\n",
      "1990-01-20  0.123400\n",
      "1990-01-21  0.123400\n",
      "1990-01-22  0.123400\n",
      "1990-01-23  0.123400\n",
      "1990-01-24  0.123400\n",
      "1990-01-25  0.123400\n",
      "1990-01-26  0.123400\n",
      "1990-01-27  0.123400\n",
      "1990-01-28  0.123400\n",
      "1990-01-29  0.123400\n",
      "1990-01-30  0.123400\n",
      "...              ...\n",
      "2017-03-03  0.006147\n",
      "2017-03-04  0.006143\n",
      "2017-03-05  0.006140\n",
      "2017-03-06  0.006136\n",
      "2017-03-07  0.006133\n",
      "2017-03-08  0.006130\n",
      "2017-03-09  0.006126\n",
      "2017-03-10  0.006123\n",
      "2017-03-11  0.006120\n",
      "2017-03-12  0.006116\n",
      "2017-03-13  0.006113\n",
      "2017-03-14  0.006109\n",
      "2017-03-15  0.006106\n",
      "2017-03-16  0.006103\n",
      "2017-03-17  0.006099\n",
      "2017-03-18  0.006096\n",
      "2017-03-19  0.006093\n",
      "2017-03-20  0.006089\n",
      "2017-03-21  0.006086\n",
      "2017-03-22  0.006082\n",
      "2017-03-23  0.006079\n",
      "2017-03-24  0.006076\n",
      "2017-03-25  0.006072\n",
      "2017-03-26  0.006069\n",
      "2017-03-27  0.006065\n",
      "2017-03-28  0.006062\n",
      "2017-03-29  0.006059\n",
      "2017-03-30  0.006055\n",
      "2017-03-31  0.006051\n",
      "2017-04-01  0.006048\n",
      "\n",
      "[9953 rows x 1 columns]\n"
     ]
    },
    {
     "name": "stderr",
     "output_type": "stream",
     "text": [
      "C:\\install\\anaconda3\\envs\\datascience\\lib\\site-packages\\ipykernel_launcher.py:17: FutureWarning: Currently, 'apply' passes the values as ndarrays to the applied function. In the future, this will change to passing it as Series objects. You need to specify 'raw=True' to keep the current behaviour, and you can pass 'raw=False' to silence this warning\n"
     ]
    }
   ],
   "source": [
    "##approach 0 tracks daily S&P \n",
    "#sp_approach0 = sp_data['adjclose'].copy(deep=True)\n",
    "sp_approach0 = sp_data['adjclose'].pct_change()\n",
    "\n",
    "rolling_return_0 = sp_approach0.rolling('1095D').apply(multi_period_return).fillna(0)\n",
    "\n",
    "##approach 1 tracks S&P with 200 perids\n",
    "#sp_approach1 = sp_data['adjclose'].pct_change(periods=20).fillna(0)\n",
    "\n",
    "##approach 1 tracks daily S&P\n",
    "sp_approach2 = sp_data['adjclose'].resample('M').mean()\n",
    "\n",
    "sp_approach2 = sp_approach2.asfreq(freq='1D', method='ffill')\n",
    "\n",
    "sp_approach2 = sp_approach2.pct_change()\n",
    "\n",
    "rolling_return_2 = sp_approach2.rolling('1095D').apply(multi_period_return).fillna(0)\n",
    "\n",
    "\n",
    "savings_return = savings_data.rolling('1095D').mean().fillna(0)\n",
    "\n",
    "savings_return = savings_return.mul(0.01)\n",
    "\n",
    "print(savings_return)\n",
    "\n"
   ]
  },
  {
   "cell_type": "code",
   "execution_count": 9,
   "metadata": {
    "_uuid": "166df7e6f61965096b319ba8ac047f5839408ef4"
   },
   "outputs": [
    {
     "data": {
      "text/plain": [
       "[<matplotlib.lines.Line2D at 0x21c613eff28>]"
      ]
     },
     "execution_count": 9,
     "metadata": {},
     "output_type": "execute_result"
    },
    {
     "data": {
      "image/png": "[encoded data removed]",
      "text/plain": [
       "<Figure size 432x288 with 1 Axes>"
      ]
     },
     "metadata": {
      "needs_background": "light"
     },
     "output_type": "display_data"
    }
   ],
   "source": [
    "#plt.plot (sp_approach0)\n",
    "plt.plot (rolling_return_0)\n",
    "#plt.plot (sp_approach2)\n",
    "plt.plot (rolling_return_2)\n",
    "#plt.plot (sp_approach1)\n",
    "#plt.plot (sp_approach2)\n",
    "\n",
    "plt.plot (savings_return)\n",
    "\n"
   ]
  },
  {
   "cell_type": "code",
   "execution_count": 10,
   "metadata": {
    "_uuid": "e4af42ec06ad342d74b4e609ef728902b0b0cbd5"
   },
   "outputs": [],
   "source": [
    "rolling_return_0 = rolling_return_0.astype('float64')\n",
    "\n",
    "#sp_approach0 = sp_approach0.astype('float64')\n",
    "#sp_approach1 = sp_approach1.astype('float64')\n",
    "#sp_approach2 = sp_approach2.astype('float64')\n",
    "\n",
    "\n",
    "#sp_approach0 = sp_approach0.cumsum()\n",
    "#sp_approach1 = sp_approach1.cumsum()\n",
    "#sp_approach2 = sp_approach2.cumsum()\n",
    "\n",
    "#plt.plot (sp_approach0)\n",
    "#plt.plot (sp_approach1)\n",
    "#plt.plot (sp_approach2)\n"
   ]
  },
  {
   "cell_type": "code",
   "execution_count": 12,
   "metadata": {
    "_uuid": "12a0d617f20fee726b4de3cf49fca5f7a915ade0"
   },
   "outputs": [
    {
     "data": {
      "text/plain": [
       "[<matplotlib.lines.Line2D at 0x21c614d1748>]"
      ]
     },
     "execution_count": 12,
     "metadata": {},
     "output_type": "execute_result"
    },
    {
     "data": {
      "image/png": "[encoded data removed]",
      "text/plain": [
       "<Figure size 432x288 with 1 Axes>"
      ]
     },
     "metadata": {
      "needs_background": "light"
     },
     "output_type": "display_data"
    }
   ],
   "source": [
    "\n",
    "#sp_approach0 = sp_approach0.apply(lambda x:x**2)\n",
    "\n",
    "cap_return = float(.15)\n",
    "floor_return = float(.005)\n",
    "\n",
    "\n",
    "rolling_return_cap_floor = rolling_return_0.apply(lambda x:cap_return if x>cap_return else (floor_return if x<floor_return else x))\n",
    "#sp_approach1 = sp_approach1.apply(lambda x:.15 if x>.15 else (0.005 if x<0.005 else x))\n",
    "\n",
    "#sp_approach0.head(20)\n",
    "#plt.plot (sp_approach0)\n",
    "plt.plot (rolling_return_0)\n",
    "plt.plot (rolling_return_cap_floor)\n",
    "plt.plot (savings_return)\n",
    "\n",
    "#plt.plot (sp_approach1)"
   ]
  },
  {
   "cell_type": "code",
   "execution_count": 78,
   "metadata": {
    "_uuid": "4dc843d739b43dbdb905b954683e79c31089ab4c"
   },
   "outputs": [
    {
     "data": {
      "text/plain": [
       "[<matplotlib.lines.Line2D at 0x1fb7d7657b8>]"
      ]
     },
     "execution_count": 78,
     "metadata": {},
     "output_type": "execute_result"
    },
    {
     "data": {
      "image/png": "[encoded data removed]",
      "text/plain": [
       "<Figure size 432x288 with 1 Axes>"
      ]
     },
     "metadata": {},
     "output_type": "display_data"
    }
   ],
   "source": [
    "plt.plot (sp_approach1)\n",
    "\n",
    "#plot_this(approach1, bar=True, title='Trailing returns: Approach 1',\n",
    " #         ylabel='Returns (parts per unit)', txt_ymin=-0.4, bottom_adj=0.25,\n",
    "  #        output_file='./imgs/fig_rets_approach1.png')"
   ]
  },
  {
   "cell_type": "code",
   "execution_count": 79,
   "metadata": {
    "_uuid": "322a7eea308109e1418fa1179fd325760d96ef0c"
   },
   "outputs": [],
   "source": [
    "plt.show()"
   ]
  },
  {
   "cell_type": "code",
   "execution_count": null,
   "metadata": {
    "_uuid": "b8fc5c0917503d00bcbf8484e7f3f87848c2255e"
   },
   "outputs": [],
   "source": []
  }
 ],
 "metadata": {
  "kernelspec": {
   "display_name": "Python 3",
   "language": "python",
   "name": "python3"
  },
  "language_info": {
   "codemirror_mode": {
    "name": "ipython",
    "version": 3
   },
   "file_extension": ".py",
   "mimetype": "text/x-python",
   "name": "python",
   "nbconvert_exporter": "python",
   "pygments_lexer": "ipython3",
   "version": "3.6.0"
  }
 },
 "nbformat": 4,
 "nbformat_minor": 1
}
