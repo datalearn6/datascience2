{
 "cells": [
  {
   "cell_type": "markdown",
   "metadata": {},
   "source": [
    "## Module 9 - Introduction to Bayesian Inference"
   ]
  },
  {
   "cell_type": "code",
   "execution_count": 1,
   "metadata": {},
   "outputs": [
    {
     "data": {
      "text/html": [
       "<script type=\"text/javascript\">window.PlotlyConfig = {MathJaxConfig: 'local'};</script><script type=\"text/javascript\">if (window.MathJax) {MathJax.Hub.Config({SVG: {font: \"STIX-Web\"}});}</script><script>requirejs.config({paths: { 'plotly': ['https://cdn.plot.ly/plotly-latest.min']},});if(!window._Plotly) {require(['plotly'],function(plotly) {window._Plotly=plotly;});}</script>"
      ],
      "text/vnd.plotly.v1+html": [
       "<script type=\"text/javascript\">window.PlotlyConfig = {MathJaxConfig: 'local'};</script><script type=\"text/javascript\">if (window.MathJax) {MathJax.Hub.Config({SVG: {font: \"STIX-Web\"}});}</script><script>requirejs.config({paths: { 'plotly': ['https://cdn.plot.ly/plotly-latest.min']},});if(!window._Plotly) {require(['plotly'],function(plotly) {window._Plotly=plotly;});}</script>"
      ]
     },
     "metadata": {},
     "output_type": "display_data"
    }
   ],
   "source": [
    "import pandas as pd\n",
    "import numpy as np\n",
    "from sklearn.model_selection import train_test_split\n",
    "from sklearn.naive_bayes import GaussianNB\n",
    "import random\n",
    "from sklearn import metrics\n",
    "from sklearn.preprocessing import LabelEncoder\n",
    "from sklearn.preprocessing import StandardScaler\n",
    "from sklearn.linear_model import LogisticRegression\n",
    "\n",
    "from plotly.offline import download_plotlyjs, init_notebook_mode, plot, iplot\n",
    "init_notebook_mode(connected=True)\n",
    "import plotly.graph_objs as go"
   ]
  },
  {
   "cell_type": "markdown",
   "metadata": {},
   "source": [
    "<b>Naive Bayesian Classifier</b><br>\n",
    "Here, we'll train a Naive Bayesian classifier to make a prediction as to whether or not we'll buy the social network ads using the data introduced in Module 8."
   ]
  },
  {
   "cell_type": "code",
   "execution_count": 2,
   "metadata": {},
   "outputs": [
    {
     "data": {
      "text/html": [
       "<div>\n",
       "<style scoped>\n",
       "    .dataframe tbody tr th:only-of-type {\n",
       "        vertical-align: middle;\n",
       "    }\n",
       "\n",
       "    .dataframe tbody tr th {\n",
       "        vertical-align: top;\n",
       "    }\n",
       "\n",
       "    .dataframe thead th {\n",
       "        text-align: right;\n",
       "    }\n",
       "</style>\n",
       "<table border=\"1\" class=\"dataframe\">\n",
       "  <thead>\n",
       "    <tr style=\"text-align: right;\">\n",
       "      <th></th>\n",
       "      <th>User ID</th>\n",
       "      <th>Gender</th>\n",
       "      <th>Age</th>\n",
       "      <th>EstimatedSalary</th>\n",
       "      <th>Purchased</th>\n",
       "    </tr>\n",
       "  </thead>\n",
       "  <tbody>\n",
       "    <tr>\n",
       "      <th>0</th>\n",
       "      <td>15624510</td>\n",
       "      <td>Male</td>\n",
       "      <td>19</td>\n",
       "      <td>19000</td>\n",
       "      <td>0</td>\n",
       "    </tr>\n",
       "    <tr>\n",
       "      <th>1</th>\n",
       "      <td>15810944</td>\n",
       "      <td>Male</td>\n",
       "      <td>35</td>\n",
       "      <td>20000</td>\n",
       "      <td>0</td>\n",
       "    </tr>\n",
       "    <tr>\n",
       "      <th>2</th>\n",
       "      <td>15668575</td>\n",
       "      <td>Female</td>\n",
       "      <td>26</td>\n",
       "      <td>43000</td>\n",
       "      <td>0</td>\n",
       "    </tr>\n",
       "    <tr>\n",
       "      <th>3</th>\n",
       "      <td>15603246</td>\n",
       "      <td>Female</td>\n",
       "      <td>27</td>\n",
       "      <td>57000</td>\n",
       "      <td>0</td>\n",
       "    </tr>\n",
       "    <tr>\n",
       "      <th>4</th>\n",
       "      <td>15804002</td>\n",
       "      <td>Male</td>\n",
       "      <td>19</td>\n",
       "      <td>76000</td>\n",
       "      <td>0</td>\n",
       "    </tr>\n",
       "  </tbody>\n",
       "</table>\n",
       "</div>"
      ],
      "text/plain": [
       "    User ID  Gender  Age  EstimatedSalary  Purchased\n",
       "0  15624510    Male   19            19000          0\n",
       "1  15810944    Male   35            20000          0\n",
       "2  15668575  Female   26            43000          0\n",
       "3  15603246  Female   27            57000          0\n",
       "4  15804002    Male   19            76000          0"
      ]
     },
     "execution_count": 2,
     "metadata": {},
     "output_type": "execute_result"
    }
   ],
   "source": [
    "ad_data = pd.read_csv(\"Social_Network_Ads.csv\")\n",
    "ad_data.head()"
   ]
  },
  {
   "cell_type": "markdown",
   "metadata": {},
   "source": [
    "The first thing we have to do is encode the catagorical and binary variables"
   ]
  },
  {
   "cell_type": "code",
   "execution_count": 3,
   "metadata": {},
   "outputs": [
    {
     "name": "stderr",
     "output_type": "stream",
     "text": [
      "C:\\install\\anaconda3\\envs\\datascience\\lib\\site-packages\\ipykernel_launcher.py:3: SettingWithCopyWarning:\n",
      "\n",
      "\n",
      "A value is trying to be set on a copy of a slice from a DataFrame.\n",
      "Try using .loc[row_indexer,col_indexer] = value instead\n",
      "\n",
      "See the caveats in the documentation: http://pandas.pydata.org/pandas-docs/stable/indexing.html#indexing-view-versus-copy\n",
      "\n"
     ]
    }
   ],
   "source": [
    "# Create the Data Frame\n",
    "X = ad_data[[\"Gender\", \"Age\", \"EstimatedSalary\"]]\n",
    "X[\"Gender\"] = pd.get_dummies(X[\"Gender\"])[\"Female\"]\n",
    "Y = ad_data[\"Purchased\"]\n",
    "\n",
    "# Splitting the dataset into the Training set and Test set\n",
    "X_Train, X_Test, Y_Train, Y_Test = train_test_split(X, Y, test_size = 0.25, random_state = 0)"
   ]
  },
  {
   "cell_type": "markdown",
   "metadata": {},
   "source": [
    "Then we generate the model"
   ]
  },
  {
   "cell_type": "code",
   "execution_count": 4,
   "metadata": {},
   "outputs": [],
   "source": [
    "# initialise Gaussian Naive Bayes\n",
    "model = GaussianNB()\n",
    "model.fit(X_Train, Y_Train)\n",
    "predictions_NB = model.predict(X_Test)\n",
    "probabilities_NB = model.predict_proba(X_Test)"
   ]
  },
  {
   "cell_type": "markdown",
   "metadata": {},
   "source": [
    "We're going to compare the performance of the Naive Bayes model with a Logistic Regresison model"
   ]
  },
  {
   "cell_type": "code",
   "execution_count": 5,
   "metadata": {},
   "outputs": [
    {
     "name": "stderr",
     "output_type": "stream",
     "text": [
      "C:\\install\\anaconda3\\envs\\datascience\\lib\\site-packages\\sklearn\\preprocessing\\data.py:617: DataConversionWarning:\n",
      "\n",
      "Data with input dtype uint8, int64 were all converted to float64 by StandardScaler.\n",
      "\n",
      "C:\\install\\anaconda3\\envs\\datascience\\lib\\site-packages\\sklearn\\base.py:462: DataConversionWarning:\n",
      "\n",
      "Data with input dtype uint8, int64 were all converted to float64 by StandardScaler.\n",
      "\n",
      "C:\\install\\anaconda3\\envs\\datascience\\lib\\site-packages\\ipykernel_launcher.py:4: DataConversionWarning:\n",
      "\n",
      "Data with input dtype uint8, int64 were all converted to float64 by StandardScaler.\n",
      "\n",
      "C:\\install\\anaconda3\\envs\\datascience\\lib\\site-packages\\sklearn\\linear_model\\logistic.py:432: FutureWarning:\n",
      "\n",
      "Default solver will be changed to 'lbfgs' in 0.22. Specify a solver to silence this warning.\n",
      "\n"
     ]
    }
   ],
   "source": [
    "# Feature Scaling - This is not necessary, but it is highly recommended.\n",
    "sc_X = StandardScaler()\n",
    "X_Train_LR = sc_X.fit_transform(X_Train)\n",
    "X_Test_LR = sc_X.transform(X_Test)\n",
    "\n",
    "# Fitting the Logistic Regression into the Training set\n",
    "classifier = LogisticRegression()\n",
    "classifier.fit(X_Train_LR, Y_Train)\n",
    "\n",
    "# Make Predictions\n",
    "predictions_LR = classifier.predict(X_Test_LR)\n",
    "probabilities_LR = classifier.predict_proba(X_Test_LR)"
   ]
  },
  {
   "cell_type": "markdown",
   "metadata": {},
   "source": [
    "Put the data together into a single data frame"
   ]
  },
  {
   "cell_type": "code",
   "execution_count": 6,
   "metadata": {
    "scrolled": true
   },
   "outputs": [
    {
     "data": {
      "text/html": [
       "<div>\n",
       "<style scoped>\n",
       "    .dataframe tbody tr th:only-of-type {\n",
       "        vertical-align: middle;\n",
       "    }\n",
       "\n",
       "    .dataframe tbody tr th {\n",
       "        vertical-align: top;\n",
       "    }\n",
       "\n",
       "    .dataframe thead th {\n",
       "        text-align: right;\n",
       "    }\n",
       "</style>\n",
       "<table border=\"1\" class=\"dataframe\">\n",
       "  <thead>\n",
       "    <tr style=\"text-align: right;\">\n",
       "      <th></th>\n",
       "      <th>NB Predictions</th>\n",
       "      <th>NB Probabilities</th>\n",
       "      <th>LR Predictions</th>\n",
       "      <th>LR Probabilities</th>\n",
       "      <th>True Values</th>\n",
       "    </tr>\n",
       "  </thead>\n",
       "  <tbody>\n",
       "    <tr>\n",
       "      <th>132</th>\n",
       "      <td>0</td>\n",
       "      <td>0.098972</td>\n",
       "      <td>0</td>\n",
       "      <td>0.124345</td>\n",
       "      <td>0</td>\n",
       "    </tr>\n",
       "    <tr>\n",
       "      <th>309</th>\n",
       "      <td>0</td>\n",
       "      <td>0.157497</td>\n",
       "      <td>0</td>\n",
       "      <td>0.157210</td>\n",
       "      <td>0</td>\n",
       "    </tr>\n",
       "    <tr>\n",
       "      <th>341</th>\n",
       "      <td>0</td>\n",
       "      <td>0.138574</td>\n",
       "      <td>0</td>\n",
       "      <td>0.212761</td>\n",
       "      <td>0</td>\n",
       "    </tr>\n",
       "    <tr>\n",
       "      <th>196</th>\n",
       "      <td>0</td>\n",
       "      <td>0.077316</td>\n",
       "      <td>0</td>\n",
       "      <td>0.083687</td>\n",
       "      <td>0</td>\n",
       "    </tr>\n",
       "    <tr>\n",
       "      <th>246</th>\n",
       "      <td>0</td>\n",
       "      <td>0.099409</td>\n",
       "      <td>0</td>\n",
       "      <td>0.091364</td>\n",
       "      <td>0</td>\n",
       "    </tr>\n",
       "  </tbody>\n",
       "</table>\n",
       "</div>"
      ],
      "text/plain": [
       "     NB Predictions  NB Probabilities  LR Predictions  LR Probabilities  \\\n",
       "132               0          0.098972               0          0.124345   \n",
       "309               0          0.157497               0          0.157210   \n",
       "341               0          0.138574               0          0.212761   \n",
       "196               0          0.077316               0          0.083687   \n",
       "246               0          0.099409               0          0.091364   \n",
       "\n",
       "     True Values  \n",
       "132            0  \n",
       "309            0  \n",
       "341            0  \n",
       "196            0  \n",
       "246            0  "
      ]
     },
     "execution_count": 6,
     "metadata": {},
     "output_type": "execute_result"
    }
   ],
   "source": [
    "# Put the data together\n",
    "results_df = pd.DataFrame({\"NB Predictions\": predictions_NB,\n",
    "                           \"NB Probabilities\": probabilities_NB[:,1],\n",
    "                           \"LR Predictions\": predictions_LR, \n",
    "                           \"LR Probabilities\": probabilities_LR[:,1],\n",
    "                           \"True Values\": Y_Test})\n",
    "results_df.head()"
   ]
  },
  {
   "cell_type": "markdown",
   "metadata": {},
   "source": [
    "Visualize the performance"
   ]
  },
  {
   "cell_type": "code",
   "execution_count": 7,
   "metadata": {},
   "outputs": [
    {
     "data": {
      "application/vnd.plotly.v1+json": {
       "data": [
        {
         "mode": "lines",
         "name": "NB Predictor",
         "type": "scatter",
         "uid": "286ab1b5-9d4a-453e-8db7-dbf4cb5f3942",
         "x": [
          0,
          0,
          0,
          0.014705882352941176,
          0.014705882352941176,
          0.058823529411764705,
          0.058823529411764705,
          0.07352941176470588,
          0.07352941176470588,
          0.20588235294117646,
          0.20588235294117646,
          0.39705882352941174,
          0.39705882352941174,
          1
         ],
         "y": [
          0,
          0.03125,
          0.28125,
          0.28125,
          0.78125,
          0.78125,
          0.90625,
          0.90625,
          0.9375,
          0.9375,
          0.96875,
          0.96875,
          1,
          1
         ]
        },
        {
         "mode": "lines",
         "name": "LR Predictor",
         "type": "scatter",
         "uid": "57c8bce8-0acb-49df-81c0-5ae6a16fa94f",
         "x": [
          0,
          0,
          0,
          0.014705882352941176,
          0.014705882352941176,
          0.029411764705882353,
          0.029411764705882353,
          0.04411764705882353,
          0.04411764705882353,
          0.08823529411764706,
          0.08823529411764706,
          0.11764705882352941,
          0.11764705882352941,
          0.14705882352941177,
          0.14705882352941177,
          0.20588235294117646,
          0.20588235294117646,
          0.4264705882352941,
          0.4264705882352941,
          1
         ],
         "y": [
          0,
          0.03125,
          0.1875,
          0.1875,
          0.71875,
          0.71875,
          0.75,
          0.75,
          0.8125,
          0.8125,
          0.875,
          0.875,
          0.90625,
          0.90625,
          0.9375,
          0.9375,
          0.96875,
          0.96875,
          1,
          1
         ]
        },
        {
         "line": {
          "color": "grey",
          "dash": "dash"
         },
         "mode": "lines",
         "name": "Random",
         "type": "scatter",
         "uid": "485ef37b-8e1c-404e-a883-6d86b7eb891e",
         "x": [
          0,
          0,
          0,
          0.014705882352941176,
          0.014705882352941176,
          0.058823529411764705,
          0.058823529411764705,
          0.07352941176470588,
          0.07352941176470588,
          0.20588235294117646,
          0.20588235294117646,
          0.39705882352941174,
          0.39705882352941174,
          1
         ],
         "y": [
          0,
          0,
          0,
          0.014705882352941176,
          0.014705882352941176,
          0.058823529411764705,
          0.058823529411764705,
          0.07352941176470588,
          0.07352941176470588,
          0.20588235294117646,
          0.20588235294117646,
          0.39705882352941174,
          0.39705882352941174,
          1
         ]
        }
       ],
       "layout": {
        "title": "ROC Curve for Ad Purchases",
        "xaxis": {
         "title": "False Positive Rate"
        },
        "yaxis": {
         "title": "True Positive Rate"
        }
       }
      },
      "text/html": [
       "<div id=\"92e295b7-9956-4cfa-9e95-c2e16d782040\" style=\"height: 525px; width: 100%;\" class=\"plotly-graph-div\"></div><script type=\"text/javascript\">require([\"plotly\"], function(Plotly) { window.PLOTLYENV=window.PLOTLYENV || {};window.PLOTLYENV.BASE_URL=\"https://plot.ly\";Plotly.newPlot(\"92e295b7-9956-4cfa-9e95-c2e16d782040\", [{\"mode\": \"lines\", \"name\": \"NB Predictor\", \"x\": [0.0, 0.0, 0.0, 0.014705882352941176, 0.014705882352941176, 0.058823529411764705, 0.058823529411764705, 0.07352941176470588, 0.07352941176470588, 0.20588235294117646, 0.20588235294117646, 0.39705882352941174, 0.39705882352941174, 1.0], \"y\": [0.0, 0.03125, 0.28125, 0.28125, 0.78125, 0.78125, 0.90625, 0.90625, 0.9375, 0.9375, 0.96875, 0.96875, 1.0, 1.0], \"type\": \"scatter\", \"uid\": \"6b04f425-85be-40ce-b47f-b6fac1911905\"}, {\"mode\": \"lines\", \"name\": \"LR Predictor\", \"x\": [0.0, 0.0, 0.0, 0.014705882352941176, 0.014705882352941176, 0.029411764705882353, 0.029411764705882353, 0.04411764705882353, 0.04411764705882353, 0.08823529411764706, 0.08823529411764706, 0.11764705882352941, 0.11764705882352941, 0.14705882352941177, 0.14705882352941177, 0.20588235294117646, 0.20588235294117646, 0.4264705882352941, 0.4264705882352941, 1.0], \"y\": [0.0, 0.03125, 0.1875, 0.1875, 0.71875, 0.71875, 0.75, 0.75, 0.8125, 0.8125, 0.875, 0.875, 0.90625, 0.90625, 0.9375, 0.9375, 0.96875, 0.96875, 1.0, 1.0], \"type\": \"scatter\", \"uid\": \"c1686571-975f-48a1-b09b-4dd2c172bfac\"}, {\"line\": {\"color\": \"grey\", \"dash\": \"dash\"}, \"mode\": \"lines\", \"name\": \"Random\", \"x\": [0.0, 0.0, 0.0, 0.014705882352941176, 0.014705882352941176, 0.058823529411764705, 0.058823529411764705, 0.07352941176470588, 0.07352941176470588, 0.20588235294117646, 0.20588235294117646, 0.39705882352941174, 0.39705882352941174, 1.0], \"y\": [0.0, 0.0, 0.0, 0.014705882352941176, 0.014705882352941176, 0.058823529411764705, 0.058823529411764705, 0.07352941176470588, 0.07352941176470588, 0.20588235294117646, 0.20588235294117646, 0.39705882352941174, 0.39705882352941174, 1.0], \"type\": \"scatter\", \"uid\": \"08b28309-6998-42ac-8d61-e2521616c6b2\"}], {\"title\": \"ROC Curve for Ad Purchases\", \"xaxis\": {\"title\": \"False Positive Rate\"}, \"yaxis\": {\"title\": \"True Positive Rate\"}}, {\"showLink\": true, \"linkText\": \"Export to plot.ly\"})});</script><script type=\"text/javascript\">window.addEventListener(\"resize\", function(){Plotly.Plots.resize(document.getElementById(\"92e295b7-9956-4cfa-9e95-c2e16d782040\"));});</script>"
      ],
      "text/vnd.plotly.v1+html": [
       "<div id=\"92e295b7-9956-4cfa-9e95-c2e16d782040\" style=\"height: 525px; width: 100%;\" class=\"plotly-graph-div\"></div><script type=\"text/javascript\">require([\"plotly\"], function(Plotly) { window.PLOTLYENV=window.PLOTLYENV || {};window.PLOTLYENV.BASE_URL=\"https://plot.ly\";Plotly.newPlot(\"92e295b7-9956-4cfa-9e95-c2e16d782040\", [{\"mode\": \"lines\", \"name\": \"NB Predictor\", \"x\": [0.0, 0.0, 0.0, 0.014705882352941176, 0.014705882352941176, 0.058823529411764705, 0.058823529411764705, 0.07352941176470588, 0.07352941176470588, 0.20588235294117646, 0.20588235294117646, 0.39705882352941174, 0.39705882352941174, 1.0], \"y\": [0.0, 0.03125, 0.28125, 0.28125, 0.78125, 0.78125, 0.90625, 0.90625, 0.9375, 0.9375, 0.96875, 0.96875, 1.0, 1.0], \"type\": \"scatter\", \"uid\": \"6b04f425-85be-40ce-b47f-b6fac1911905\"}, {\"mode\": \"lines\", \"name\": \"LR Predictor\", \"x\": [0.0, 0.0, 0.0, 0.014705882352941176, 0.014705882352941176, 0.029411764705882353, 0.029411764705882353, 0.04411764705882353, 0.04411764705882353, 0.08823529411764706, 0.08823529411764706, 0.11764705882352941, 0.11764705882352941, 0.14705882352941177, 0.14705882352941177, 0.20588235294117646, 0.20588235294117646, 0.4264705882352941, 0.4264705882352941, 1.0], \"y\": [0.0, 0.03125, 0.1875, 0.1875, 0.71875, 0.71875, 0.75, 0.75, 0.8125, 0.8125, 0.875, 0.875, 0.90625, 0.90625, 0.9375, 0.9375, 0.96875, 0.96875, 1.0, 1.0], \"type\": \"scatter\", \"uid\": \"c1686571-975f-48a1-b09b-4dd2c172bfac\"}, {\"line\": {\"color\": \"grey\", \"dash\": \"dash\"}, \"mode\": \"lines\", \"name\": \"Random\", \"x\": [0.0, 0.0, 0.0, 0.014705882352941176, 0.014705882352941176, 0.058823529411764705, 0.058823529411764705, 0.07352941176470588, 0.07352941176470588, 0.20588235294117646, 0.20588235294117646, 0.39705882352941174, 0.39705882352941174, 1.0], \"y\": [0.0, 0.0, 0.0, 0.014705882352941176, 0.014705882352941176, 0.058823529411764705, 0.058823529411764705, 0.07352941176470588, 0.07352941176470588, 0.20588235294117646, 0.20588235294117646, 0.39705882352941174, 0.39705882352941174, 1.0], \"type\": \"scatter\", \"uid\": \"08b28309-6998-42ac-8d61-e2521616c6b2\"}], {\"title\": \"ROC Curve for Ad Purchases\", \"xaxis\": {\"title\": \"False Positive Rate\"}, \"yaxis\": {\"title\": \"True Positive Rate\"}}, {\"showLink\": true, \"linkText\": \"Export to plot.ly\"})});</script><script type=\"text/javascript\">window.addEventListener(\"resize\", function(){Plotly.Plots.resize(document.getElementById(\"92e295b7-9956-4cfa-9e95-c2e16d782040\"));});</script>"
      ]
     },
     "metadata": {},
     "output_type": "display_data"
    },
    {
     "name": "stdout",
     "output_type": "stream",
     "text": [
      "Area Under the ROC Curve (AUC) is 0.964 for Naive Bayes, and 0.955 for Logistic Regression\n"
     ]
    }
   ],
   "source": [
    "# Use sklearn to get us the tpr and fpr at different cutoffs\n",
    "tpr_nb, fpr_nb, _ = metrics.roc_curve(results_df[\"True Values\"], results_df[\"NB Probabilities\"])\n",
    "tpr_lr, fpr_lr, _ = metrics.roc_curve(results_df[\"True Values\"], results_df[\"LR Probabilities\"])\n",
    "\n",
    "trace0 = go.Scatter(\n",
    "    x = tpr_nb,\n",
    "    y = fpr_nb,\n",
    "    mode = 'lines',\n",
    "    name = 'NB Predictor'\n",
    ")\n",
    "\n",
    "trace1 = go.Scatter(\n",
    "    x = tpr_lr,\n",
    "    y = fpr_lr,\n",
    "    mode = 'lines',\n",
    "    name = 'LR Predictor'\n",
    ")\n",
    "\n",
    "trace2 = go.Scatter(\n",
    "    x = tpr_nb,\n",
    "    y = tpr_nb,\n",
    "    mode='lines',\n",
    "    name='Random',\n",
    "    line=dict(\n",
    "        dash=\"dash\",\n",
    "        color=\"grey\")\n",
    ")\n",
    "\n",
    "data = [trace0, trace1, trace2]\n",
    "\n",
    "layout = dict(title = 'ROC Curve for Ad Purchases',\n",
    "              xaxis = dict(title = 'False Positive Rate'),\n",
    "              yaxis = dict(title = 'True Positive Rate'),\n",
    "              )\n",
    "\n",
    "fig = dict(data=data, layout=layout)\n",
    "iplot(fig)\n",
    "\n",
    "auc_nb = metrics.roc_auc_score(results_df[\"True Values\"], results_df[\"NB Probabilities\"])\n",
    "auc_lr = metrics.roc_auc_score(results_df[\"True Values\"], results_df[\"LR Probabilities\"])\n",
    "print(\"Area Under the ROC Curve (AUC) is %.3f for Naive Bayes, and %.3f for Logistic Regression\" % (auc_nb, auc_lr))"
   ]
  },
  {
   "cell_type": "code",
   "execution_count": 8,
   "metadata": {},
   "outputs": [
    {
     "data": {
      "application/vnd.plotly.v1+json": {
       "data": [
        {
         "mode": "lines",
         "name": "NB Predictor",
         "type": "scatter",
         "uid": "63486a7d-f876-40e4-a3fe-ec3036ff264a",
         "x": [
          1,
          0.96875,
          0.96875,
          0.96875,
          0.96875,
          0.96875,
          0.96875,
          0.96875,
          0.96875,
          0.96875,
          0.96875,
          0.96875,
          0.96875,
          0.96875,
          0.96875,
          0.9375,
          0.9375,
          0.9375,
          0.9375,
          0.9375,
          0.9375,
          0.9375,
          0.9375,
          0.9375,
          0.9375,
          0.90625,
          0.90625,
          0.875,
          0.84375,
          0.8125,
          0.78125,
          0.78125,
          0.78125,
          0.78125,
          0.75,
          0.71875,
          0.6875,
          0.65625,
          0.625,
          0.59375,
          0.5625,
          0.53125,
          0.5,
          0.46875,
          0.4375,
          0.40625,
          0.375,
          0.34375,
          0.3125,
          0.28125,
          0.28125,
          0.25,
          0.21875,
          0.1875,
          0.15625,
          0.125,
          0.09375,
          0.0625,
          0.03125,
          0
         ],
         "y": [
          0.5423728813559322,
          0.5344827586206896,
          0.543859649122807,
          0.5535714285714286,
          0.5636363636363636,
          0.5740740740740741,
          0.5849056603773585,
          0.5961538461538461,
          0.6078431372549019,
          0.62,
          0.6326530612244898,
          0.6458333333333334,
          0.6595744680851063,
          0.6739130434782609,
          0.6888888888888889,
          0.6818181818181818,
          0.6976744186046512,
          0.7142857142857143,
          0.7317073170731707,
          0.75,
          0.7692307692307693,
          0.7894736842105263,
          0.8108108108108109,
          0.8333333333333334,
          0.8571428571428571,
          0.8529411764705882,
          0.8787878787878788,
          0.875,
          0.8709677419354839,
          0.8666666666666667,
          0.8620689655172413,
          0.8928571428571429,
          0.9259259259259259,
          0.9615384615384616,
          0.96,
          0.9583333333333334,
          0.9565217391304348,
          0.9545454545454546,
          0.9523809523809523,
          0.95,
          0.9473684210526315,
          0.9444444444444444,
          0.9411764705882353,
          0.9375,
          0.9333333333333333,
          0.9285714285714286,
          0.9230769230769231,
          0.9166666666666666,
          0.9090909090909091,
          0.9,
          1,
          1,
          1,
          1,
          1,
          1,
          1,
          1,
          1,
          1
         ]
        },
        {
         "mode": "lines",
         "name": "LR Predictor",
         "type": "scatter",
         "uid": "b39a87f3-f353-4b0b-b66b-ffd0de8ac378",
         "x": [
          1,
          0.96875,
          0.96875,
          0.96875,
          0.96875,
          0.96875,
          0.96875,
          0.96875,
          0.96875,
          0.96875,
          0.96875,
          0.96875,
          0.96875,
          0.96875,
          0.96875,
          0.96875,
          0.96875,
          0.9375,
          0.9375,
          0.9375,
          0.9375,
          0.9375,
          0.90625,
          0.90625,
          0.90625,
          0.875,
          0.875,
          0.875,
          0.84375,
          0.8125,
          0.8125,
          0.8125,
          0.8125,
          0.78125,
          0.75,
          0.75,
          0.71875,
          0.71875,
          0.6875,
          0.65625,
          0.625,
          0.59375,
          0.5625,
          0.53125,
          0.5,
          0.46875,
          0.4375,
          0.40625,
          0.375,
          0.34375,
          0.3125,
          0.28125,
          0.25,
          0.21875,
          0.1875,
          0.1875,
          0.15625,
          0.125,
          0.09375,
          0.0625,
          0.03125,
          0
         ],
         "y": [
          0.5245901639344263,
          0.5166666666666667,
          0.5254237288135594,
          0.5344827586206896,
          0.543859649122807,
          0.5535714285714286,
          0.5636363636363636,
          0.5740740740740741,
          0.5849056603773585,
          0.5961538461538461,
          0.6078431372549019,
          0.62,
          0.6326530612244898,
          0.6458333333333334,
          0.6595744680851063,
          0.6739130434782609,
          0.6888888888888889,
          0.6818181818181818,
          0.6976744186046512,
          0.7142857142857143,
          0.7317073170731707,
          0.75,
          0.7435897435897436,
          0.7631578947368421,
          0.7837837837837838,
          0.7777777777777778,
          0.8,
          0.8235294117647058,
          0.8181818181818182,
          0.8125,
          0.8387096774193549,
          0.8666666666666667,
          0.896551724137931,
          0.8928571428571429,
          0.8888888888888888,
          0.9230769230769231,
          0.92,
          0.9583333333333334,
          0.9565217391304348,
          0.9545454545454546,
          0.9523809523809523,
          0.95,
          0.9473684210526315,
          0.9444444444444444,
          0.9411764705882353,
          0.9375,
          0.9333333333333333,
          0.9285714285714286,
          0.9230769230769231,
          0.9166666666666666,
          0.9090909090909091,
          0.9,
          0.8888888888888888,
          0.875,
          0.8571428571428571,
          1,
          1,
          1,
          1,
          1,
          1,
          1
         ]
        }
       ],
       "layout": {
        "title": "Precision-Recall Curve for Ad Purchases",
        "xaxis": {
         "title": "Recall"
        },
        "yaxis": {
         "title": "Precision"
        }
       }
      },
      "text/html": [
       "<div id=\"398af4ec-62db-409c-b9b8-0afc0a95bff6\" style=\"height: 525px; width: 100%;\" class=\"plotly-graph-div\"></div><script type=\"text/javascript\">require([\"plotly\"], function(Plotly) { window.PLOTLYENV=window.PLOTLYENV || {};window.PLOTLYENV.BASE_URL=\"https://plot.ly\";Plotly.newPlot(\"398af4ec-62db-409c-b9b8-0afc0a95bff6\", [{\"mode\": \"lines\", \"name\": \"NB Predictor\", \"x\": [1.0, 0.96875, 0.96875, 0.96875, 0.96875, 0.96875, 0.96875, 0.96875, 0.96875, 0.96875, 0.96875, 0.96875, 0.96875, 0.96875, 0.96875, 0.9375, 0.9375, 0.9375, 0.9375, 0.9375, 0.9375, 0.9375, 0.9375, 0.9375, 0.9375, 0.90625, 0.90625, 0.875, 0.84375, 0.8125, 0.78125, 0.78125, 0.78125, 0.78125, 0.75, 0.71875, 0.6875, 0.65625, 0.625, 0.59375, 0.5625, 0.53125, 0.5, 0.46875, 0.4375, 0.40625, 0.375, 0.34375, 0.3125, 0.28125, 0.28125, 0.25, 0.21875, 0.1875, 0.15625, 0.125, 0.09375, 0.0625, 0.03125, 0.0], \"y\": [0.5423728813559322, 0.5344827586206896, 0.543859649122807, 0.5535714285714286, 0.5636363636363636, 0.5740740740740741, 0.5849056603773585, 0.5961538461538461, 0.6078431372549019, 0.62, 0.6326530612244898, 0.6458333333333334, 0.6595744680851063, 0.6739130434782609, 0.6888888888888889, 0.6818181818181818, 0.6976744186046512, 0.7142857142857143, 0.7317073170731707, 0.75, 0.7692307692307693, 0.7894736842105263, 0.8108108108108109, 0.8333333333333334, 0.8571428571428571, 0.8529411764705882, 0.8787878787878788, 0.875, 0.8709677419354839, 0.8666666666666667, 0.8620689655172413, 0.8928571428571429, 0.9259259259259259, 0.9615384615384616, 0.96, 0.9583333333333334, 0.9565217391304348, 0.9545454545454546, 0.9523809523809523, 0.95, 0.9473684210526315, 0.9444444444444444, 0.9411764705882353, 0.9375, 0.9333333333333333, 0.9285714285714286, 0.9230769230769231, 0.9166666666666666, 0.9090909090909091, 0.9, 1.0, 1.0, 1.0, 1.0, 1.0, 1.0, 1.0, 1.0, 1.0, 1.0], \"type\": \"scatter\", \"uid\": \"6c21e9a0-1e8b-4ee1-8cae-879b566627a2\"}, {\"mode\": \"lines\", \"name\": \"LR Predictor\", \"x\": [1.0, 0.96875, 0.96875, 0.96875, 0.96875, 0.96875, 0.96875, 0.96875, 0.96875, 0.96875, 0.96875, 0.96875, 0.96875, 0.96875, 0.96875, 0.96875, 0.96875, 0.9375, 0.9375, 0.9375, 0.9375, 0.9375, 0.90625, 0.90625, 0.90625, 0.875, 0.875, 0.875, 0.84375, 0.8125, 0.8125, 0.8125, 0.8125, 0.78125, 0.75, 0.75, 0.71875, 0.71875, 0.6875, 0.65625, 0.625, 0.59375, 0.5625, 0.53125, 0.5, 0.46875, 0.4375, 0.40625, 0.375, 0.34375, 0.3125, 0.28125, 0.25, 0.21875, 0.1875, 0.1875, 0.15625, 0.125, 0.09375, 0.0625, 0.03125, 0.0], \"y\": [0.5245901639344263, 0.5166666666666667, 0.5254237288135594, 0.5344827586206896, 0.543859649122807, 0.5535714285714286, 0.5636363636363636, 0.5740740740740741, 0.5849056603773585, 0.5961538461538461, 0.6078431372549019, 0.62, 0.6326530612244898, 0.6458333333333334, 0.6595744680851063, 0.6739130434782609, 0.6888888888888889, 0.6818181818181818, 0.6976744186046512, 0.7142857142857143, 0.7317073170731707, 0.75, 0.7435897435897436, 0.7631578947368421, 0.7837837837837838, 0.7777777777777778, 0.8, 0.8235294117647058, 0.8181818181818182, 0.8125, 0.8387096774193549, 0.8666666666666667, 0.896551724137931, 0.8928571428571429, 0.8888888888888888, 0.9230769230769231, 0.92, 0.9583333333333334, 0.9565217391304348, 0.9545454545454546, 0.9523809523809523, 0.95, 0.9473684210526315, 0.9444444444444444, 0.9411764705882353, 0.9375, 0.9333333333333333, 0.9285714285714286, 0.9230769230769231, 0.9166666666666666, 0.9090909090909091, 0.9, 0.8888888888888888, 0.875, 0.8571428571428571, 1.0, 1.0, 1.0, 1.0, 1.0, 1.0, 1.0], \"type\": \"scatter\", \"uid\": \"097dd474-3f24-46b8-9357-523d445f45ca\"}], {\"title\": \"Precision-Recall Curve for Ad Purchases\", \"xaxis\": {\"title\": \"Recall\"}, \"yaxis\": {\"title\": \"Precision\"}}, {\"showLink\": true, \"linkText\": \"Export to plot.ly\"})});</script><script type=\"text/javascript\">window.addEventListener(\"resize\", function(){Plotly.Plots.resize(document.getElementById(\"398af4ec-62db-409c-b9b8-0afc0a95bff6\"));});</script>"
      ],
      "text/vnd.plotly.v1+html": [
       "<div id=\"398af4ec-62db-409c-b9b8-0afc0a95bff6\" style=\"height: 525px; width: 100%;\" class=\"plotly-graph-div\"></div><script type=\"text/javascript\">require([\"plotly\"], function(Plotly) { window.PLOTLYENV=window.PLOTLYENV || {};window.PLOTLYENV.BASE_URL=\"https://plot.ly\";Plotly.newPlot(\"398af4ec-62db-409c-b9b8-0afc0a95bff6\", [{\"mode\": \"lines\", \"name\": \"NB Predictor\", \"x\": [1.0, 0.96875, 0.96875, 0.96875, 0.96875, 0.96875, 0.96875, 0.96875, 0.96875, 0.96875, 0.96875, 0.96875, 0.96875, 0.96875, 0.96875, 0.9375, 0.9375, 0.9375, 0.9375, 0.9375, 0.9375, 0.9375, 0.9375, 0.9375, 0.9375, 0.90625, 0.90625, 0.875, 0.84375, 0.8125, 0.78125, 0.78125, 0.78125, 0.78125, 0.75, 0.71875, 0.6875, 0.65625, 0.625, 0.59375, 0.5625, 0.53125, 0.5, 0.46875, 0.4375, 0.40625, 0.375, 0.34375, 0.3125, 0.28125, 0.28125, 0.25, 0.21875, 0.1875, 0.15625, 0.125, 0.09375, 0.0625, 0.03125, 0.0], \"y\": [0.5423728813559322, 0.5344827586206896, 0.543859649122807, 0.5535714285714286, 0.5636363636363636, 0.5740740740740741, 0.5849056603773585, 0.5961538461538461, 0.6078431372549019, 0.62, 0.6326530612244898, 0.6458333333333334, 0.6595744680851063, 0.6739130434782609, 0.6888888888888889, 0.6818181818181818, 0.6976744186046512, 0.7142857142857143, 0.7317073170731707, 0.75, 0.7692307692307693, 0.7894736842105263, 0.8108108108108109, 0.8333333333333334, 0.8571428571428571, 0.8529411764705882, 0.8787878787878788, 0.875, 0.8709677419354839, 0.8666666666666667, 0.8620689655172413, 0.8928571428571429, 0.9259259259259259, 0.9615384615384616, 0.96, 0.9583333333333334, 0.9565217391304348, 0.9545454545454546, 0.9523809523809523, 0.95, 0.9473684210526315, 0.9444444444444444, 0.9411764705882353, 0.9375, 0.9333333333333333, 0.9285714285714286, 0.9230769230769231, 0.9166666666666666, 0.9090909090909091, 0.9, 1.0, 1.0, 1.0, 1.0, 1.0, 1.0, 1.0, 1.0, 1.0, 1.0], \"type\": \"scatter\", \"uid\": \"6c21e9a0-1e8b-4ee1-8cae-879b566627a2\"}, {\"mode\": \"lines\", \"name\": \"LR Predictor\", \"x\": [1.0, 0.96875, 0.96875, 0.96875, 0.96875, 0.96875, 0.96875, 0.96875, 0.96875, 0.96875, 0.96875, 0.96875, 0.96875, 0.96875, 0.96875, 0.96875, 0.96875, 0.9375, 0.9375, 0.9375, 0.9375, 0.9375, 0.90625, 0.90625, 0.90625, 0.875, 0.875, 0.875, 0.84375, 0.8125, 0.8125, 0.8125, 0.8125, 0.78125, 0.75, 0.75, 0.71875, 0.71875, 0.6875, 0.65625, 0.625, 0.59375, 0.5625, 0.53125, 0.5, 0.46875, 0.4375, 0.40625, 0.375, 0.34375, 0.3125, 0.28125, 0.25, 0.21875, 0.1875, 0.1875, 0.15625, 0.125, 0.09375, 0.0625, 0.03125, 0.0], \"y\": [0.5245901639344263, 0.5166666666666667, 0.5254237288135594, 0.5344827586206896, 0.543859649122807, 0.5535714285714286, 0.5636363636363636, 0.5740740740740741, 0.5849056603773585, 0.5961538461538461, 0.6078431372549019, 0.62, 0.6326530612244898, 0.6458333333333334, 0.6595744680851063, 0.6739130434782609, 0.6888888888888889, 0.6818181818181818, 0.6976744186046512, 0.7142857142857143, 0.7317073170731707, 0.75, 0.7435897435897436, 0.7631578947368421, 0.7837837837837838, 0.7777777777777778, 0.8, 0.8235294117647058, 0.8181818181818182, 0.8125, 0.8387096774193549, 0.8666666666666667, 0.896551724137931, 0.8928571428571429, 0.8888888888888888, 0.9230769230769231, 0.92, 0.9583333333333334, 0.9565217391304348, 0.9545454545454546, 0.9523809523809523, 0.95, 0.9473684210526315, 0.9444444444444444, 0.9411764705882353, 0.9375, 0.9333333333333333, 0.9285714285714286, 0.9230769230769231, 0.9166666666666666, 0.9090909090909091, 0.9, 0.8888888888888888, 0.875, 0.8571428571428571, 1.0, 1.0, 1.0, 1.0, 1.0, 1.0, 1.0], \"type\": \"scatter\", \"uid\": \"097dd474-3f24-46b8-9357-523d445f45ca\"}], {\"title\": \"Precision-Recall Curve for Ad Purchases\", \"xaxis\": {\"title\": \"Recall\"}, \"yaxis\": {\"title\": \"Precision\"}}, {\"showLink\": true, \"linkText\": \"Export to plot.ly\"})});</script><script type=\"text/javascript\">window.addEventListener(\"resize\", function(){Plotly.Plots.resize(document.getElementById(\"398af4ec-62db-409c-b9b8-0afc0a95bff6\"));});</script>"
      ]
     },
     "metadata": {},
     "output_type": "display_data"
    }
   ],
   "source": [
    "# Use sklearn to get us the tpr and fpr at different cutoffs\n",
    "precision_NB, recall_NB, _ = metrics.precision_recall_curve(results_df[\"True Values\"], results_df[\"NB Probabilities\"])\n",
    "precision_LR, recall_LR, _ = metrics.precision_recall_curve(results_df[\"True Values\"], results_df[\"LR Probabilities\"])\n",
    "\n",
    "trace0 = go.Scatter(\n",
    "    x = recall_NB,\n",
    "    y = precision_NB,\n",
    "    mode = 'lines',\n",
    "    name = 'NB Predictor'\n",
    ")\n",
    "\n",
    "trace1 = go.Scatter(\n",
    "    x = recall_LR,\n",
    "    y = precision_LR,\n",
    "    mode = 'lines',\n",
    "    name = 'LR Predictor'\n",
    ")\n",
    "\n",
    "data = [trace0, trace1]\n",
    "\n",
    "layout = dict(title = 'Precision-Recall Curve for Ad Purchases',\n",
    "              xaxis = dict(title = 'Recall'),\n",
    "              yaxis = dict(title = 'Precision'),\n",
    "              )\n",
    "\n",
    "fig = dict(data=data, layout=layout)\n",
    "iplot(fig)"
   ]
  }
 ],
 "metadata": {
  "kernelspec": {
   "display_name": "Python 3",
   "language": "python",
   "name": "python3"
  },
  "language_info": {
   "codemirror_mode": {
    "name": "ipython",
    "version": 3
   },
   "file_extension": ".py",
   "mimetype": "text/x-python",
   "name": "python",
   "nbconvert_exporter": "python",
   "pygments_lexer": "ipython3",
   "version": "3.6.0"
  }
 },
 "nbformat": 4,
 "nbformat_minor": 2
}
