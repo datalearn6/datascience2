{
 "cells": [
  {
   "cell_type": "markdown",
   "metadata": {},
   "source": [
    "## Module 10 - Markov Chain Monte Carlo (MCMC) Methods\n",
    "<b>Markov Chains</b><br>\n",
    "Markov Chains describe a series of possible events, where the probability of each event occurring depends on the event before it (and only the event before it). In the example below we create a function to predict weather at a given day given only the day-to-day transition probabilities."
   ]
  },
  {
   "cell_type": "code",
   "execution_count": 1,
   "metadata": {},
   "outputs": [
    {
     "data": {
      "text/html": [
       "<script>requirejs.config({paths: { 'plotly': ['https://cdn.plot.ly/plotly-latest.min']},});if(!window.Plotly) {{require(['plotly'],function(plotly) {window.Plotly=plotly;});}}</script>"
      ],
      "text/vnd.plotly.v1+html": [
       "<script>requirejs.config({paths: { 'plotly': ['https://cdn.plot.ly/plotly-latest.min']},});if(!window.Plotly) {{require(['plotly'],function(plotly) {window.Plotly=plotly;});}}</script>"
      ]
     },
     "metadata": {},
     "output_type": "display_data"
    }
   ],
   "source": [
    "import numpy as np\n",
    "import random as rm\n",
    "from plotly.offline import download_plotlyjs, init_notebook_mode, plot, iplot\n",
    "init_notebook_mode(connected=True)\n",
    "import plotly.graph_objs as go\n",
    "from IPython.display import Image"
   ]
  },
  {
   "cell_type": "code",
   "execution_count": 2,
   "metadata": {},
   "outputs": [],
   "source": [
    "# A simple Markov chain model for the weather in Python\n",
    "# Adapted from http://www.cyber-omelette.com/2017/01/markov.html\n",
    "\n",
    "# Possible sequences of events\n",
    "transition_name = [[\"StoS\",\"StoR\"],[\"RtoR\",\"RtoS\"]]\n",
    "\n",
    "# Probabilities matrix (transition matrix)\n",
    "transition_matrix = [[0.9,0.1],[0.5,0.5]]"
   ]
  },
  {
   "cell_type": "markdown",
   "metadata": {},
   "source": [
    "This function returns the weather prediction for a given day given the initial weather and the transition information."
   ]
  },
  {
   "cell_type": "code",
   "execution_count": 3,
   "metadata": {},
   "outputs": [
    {
     "name": "stdout",
     "output_type": "stream",
     "text": [
      "Rainy\n"
     ]
    }
   ],
   "source": [
    "def weather_forecast(days, transition_name, transition_matrix, weather_today):\n",
    "    for day_ct in range(days):\n",
    "        if weather_today == \"Sunny\":\n",
    "            change = np.random.choice(transition_name[0], p=transition_matrix[0])\n",
    "            if change == \"StoS\":\n",
    "                pass\n",
    "            else:\n",
    "                weather_today = \"Rainy\"\n",
    "        elif weather_today == \"Rainy\":\n",
    "            change = np.random.choice(transition_name[1], p=transition_matrix[1])\n",
    "            if change == \"RtoR\":\n",
    "                pass\n",
    "            else:\n",
    "                weather_today = \"Sunny\"\n",
    "        # time.sleep(0.2)\n",
    "    return weather_today\n",
    "\n",
    "# We forecast the weather for 100 days\n",
    "weather_at_end = weather_forecast(100, transition_name, transition_matrix, \"Sunny\")\n",
    "print(weather_at_end)"
   ]
  },
  {
   "cell_type": "markdown",
   "metadata": {},
   "source": [
    "We can take the function above and run it a number of times to create a simulation. This simulation results will tell us the proportion of times it's sunny on day 100."
   ]
  },
  {
   "cell_type": "code",
   "execution_count": 4,
   "metadata": {},
   "outputs": [
    {
     "name": "stdout",
     "output_type": "stream",
     "text": [
      "P(Sunny) at day 100 is 0.8310\n"
     ]
    }
   ],
   "source": [
    "def simulate_mc(num_simulations, num_days, starting_weather):\n",
    "    # Now we'll run it 1000 times\n",
    "    sunny_days = 0\n",
    "    rainy_days = 0\n",
    "    \n",
    "    for run_ct in range(num_simulations):\n",
    "        weather_result = weather_forecast(num_days, transition_name, transition_matrix, starting_weather)\n",
    "        if weather_result == \"Sunny\":\n",
    "            sunny_days += 1\n",
    "        else:\n",
    "            rainy_days += 1\n",
    "\n",
    "    sunny_frac = float(sunny_days) / (float(sunny_days + rainy_days))\n",
    "    return sunny_frac\n",
    "\n",
    "frac = simulate_mc(1000, 100, \"Rainy\")\n",
    "print(\"P(Sunny) at day 100 is %.4f\" % frac)                        "
   ]
  },
  {
   "cell_type": "markdown",
   "metadata": {},
   "source": [
    "When we have enough days in our 'chain', the initial state is irrelevant. We can see how this looks by simulating for an increasing number of 'chain' days. Note, this step can take some time."
   ]
  },
  {
   "cell_type": "code",
   "execution_count": 5,
   "metadata": {},
   "outputs": [],
   "source": [
    "sunny_frac = []\n",
    "rainy_frac = []\n",
    "\n",
    "for i in range(25):\n",
    "    sunny_frac.append(simulate_mc(1000, i, \"Sunny\"))\n",
    "    rainy_frac.append(simulate_mc(1000, i, \"Rainy\"))"
   ]
  },
  {
   "cell_type": "code",
   "execution_count": 6,
   "metadata": {},
   "outputs": [
    {
     "data": {
      "application/vnd.plotly.v1+json": {
       "data": [
        {
         "mode": "lines",
         "name": "First Day Sunny",
         "type": "scatter",
         "uid": "35f3e302-f304-11e8-b2cf-f0189801d286",
         "x": [
          0,
          1,
          2,
          3,
          4,
          5,
          6,
          7,
          8,
          9,
          10,
          11,
          12,
          13,
          14,
          15,
          16,
          17,
          18,
          19,
          20,
          21,
          22,
          23,
          24
         ],
         "y": [
          1,
          0.89,
          0.857,
          0.84,
          0.844,
          0.841,
          0.835,
          0.864,
          0.843,
          0.843,
          0.835,
          0.838,
          0.816,
          0.831,
          0.846,
          0.82,
          0.847,
          0.839,
          0.837,
          0.839,
          0.837,
          0.819,
          0.827,
          0.826,
          0.827
         ]
        },
        {
         "mode": "lines",
         "name": "First Day Rainy",
         "type": "scatter",
         "uid": "35f4e71e-f304-11e8-8694-f0189801d286",
         "x": [
          0,
          1,
          2,
          3,
          4,
          5,
          6,
          7,
          8,
          9,
          10,
          11,
          12,
          13,
          14,
          15,
          16,
          17,
          18,
          19,
          20,
          21,
          22,
          23,
          24
         ],
         "y": [
          0,
          0.526,
          0.694,
          0.785,
          0.822,
          0.838,
          0.855,
          0.831,
          0.816,
          0.833,
          0.841,
          0.844,
          0.832,
          0.826,
          0.817,
          0.832,
          0.832,
          0.826,
          0.832,
          0.832,
          0.842,
          0.812,
          0.828,
          0.822,
          0.839
         ]
        }
       ],
       "layout": {
        "xaxis": {
         "title": "Days"
        },
        "yaxis": {
         "title": "P(Sunny)"
        }
       }
      },
      "text/html": [
       "<div id=\"5faaca47-5e56-43ae-8ece-1dc009480a76\" style=\"height: 525px; width: 100%;\" class=\"plotly-graph-div\"></div><script type=\"text/javascript\">require([\"plotly\"], function(Plotly) { window.PLOTLYENV=window.PLOTLYENV || {};window.PLOTLYENV.BASE_URL=\"https://plot.ly\";Plotly.newPlot(\"5faaca47-5e56-43ae-8ece-1dc009480a76\", [{\"mode\": \"lines\", \"name\": \"First Day Sunny\", \"x\": [0, 1, 2, 3, 4, 5, 6, 7, 8, 9, 10, 11, 12, 13, 14, 15, 16, 17, 18, 19, 20, 21, 22, 23, 24], \"y\": [1.0, 0.89, 0.857, 0.84, 0.844, 0.841, 0.835, 0.864, 0.843, 0.843, 0.835, 0.838, 0.816, 0.831, 0.846, 0.82, 0.847, 0.839, 0.837, 0.839, 0.837, 0.819, 0.827, 0.826, 0.827], \"type\": \"scatter\", \"uid\": \"35f3e302-f304-11e8-b2cf-f0189801d286\"}, {\"mode\": \"lines\", \"name\": \"First Day Rainy\", \"x\": [0, 1, 2, 3, 4, 5, 6, 7, 8, 9, 10, 11, 12, 13, 14, 15, 16, 17, 18, 19, 20, 21, 22, 23, 24], \"y\": [0.0, 0.526, 0.694, 0.785, 0.822, 0.838, 0.855, 0.831, 0.816, 0.833, 0.841, 0.844, 0.832, 0.826, 0.817, 0.832, 0.832, 0.826, 0.832, 0.832, 0.842, 0.812, 0.828, 0.822, 0.839], \"type\": \"scatter\", \"uid\": \"35f4e71e-f304-11e8-8694-f0189801d286\"}], {\"xaxis\": {\"title\": \"Days\"}, \"yaxis\": {\"title\": \"P(Sunny)\"}}, {\"showLink\": true, \"linkText\": \"Export to plot.ly\"})});</script>"
      ],
      "text/vnd.plotly.v1+html": [
       "<div id=\"5faaca47-5e56-43ae-8ece-1dc009480a76\" style=\"height: 525px; width: 100%;\" class=\"plotly-graph-div\"></div><script type=\"text/javascript\">require([\"plotly\"], function(Plotly) { window.PLOTLYENV=window.PLOTLYENV || {};window.PLOTLYENV.BASE_URL=\"https://plot.ly\";Plotly.newPlot(\"5faaca47-5e56-43ae-8ece-1dc009480a76\", [{\"mode\": \"lines\", \"name\": \"First Day Sunny\", \"x\": [0, 1, 2, 3, 4, 5, 6, 7, 8, 9, 10, 11, 12, 13, 14, 15, 16, 17, 18, 19, 20, 21, 22, 23, 24], \"y\": [1.0, 0.89, 0.857, 0.84, 0.844, 0.841, 0.835, 0.864, 0.843, 0.843, 0.835, 0.838, 0.816, 0.831, 0.846, 0.82, 0.847, 0.839, 0.837, 0.839, 0.837, 0.819, 0.827, 0.826, 0.827], \"type\": \"scatter\", \"uid\": \"35f3e302-f304-11e8-b2cf-f0189801d286\"}, {\"mode\": \"lines\", \"name\": \"First Day Rainy\", \"x\": [0, 1, 2, 3, 4, 5, 6, 7, 8, 9, 10, 11, 12, 13, 14, 15, 16, 17, 18, 19, 20, 21, 22, 23, 24], \"y\": [0.0, 0.526, 0.694, 0.785, 0.822, 0.838, 0.855, 0.831, 0.816, 0.833, 0.841, 0.844, 0.832, 0.826, 0.817, 0.832, 0.832, 0.826, 0.832, 0.832, 0.842, 0.812, 0.828, 0.822, 0.839], \"type\": \"scatter\", \"uid\": \"35f4e71e-f304-11e8-8694-f0189801d286\"}], {\"xaxis\": {\"title\": \"Days\"}, \"yaxis\": {\"title\": \"P(Sunny)\"}}, {\"showLink\": true, \"linkText\": \"Export to plot.ly\"})});</script>"
      ]
     },
     "metadata": {},
     "output_type": "display_data"
    }
   ],
   "source": [
    "# Create traces\n",
    "trace0 = go.Scatter(\n",
    "    x = np.arange(25),\n",
    "    y = sunny_frac,\n",
    "    mode = 'lines',\n",
    "    name = 'First Day Sunny'\n",
    ")\n",
    "\n",
    "trace1 = go.Scatter(\n",
    "    x = np.arange(25),\n",
    "    y = rainy_frac,\n",
    "    mode = 'lines',\n",
    "    name = 'First Day Rainy'\n",
    ")\n",
    "\n",
    "layout= go.Layout(\n",
    "    xaxis= dict(title = 'Days'),\n",
    "    yaxis=dict(title = 'P(Sunny)'),\n",
    ")\n",
    "\n",
    "data = [trace0, trace1]\n",
    "fig = go.Figure(data=data, layout=layout)\n",
    "iplot(fig)"
   ]
  },
  {
   "cell_type": "markdown",
   "metadata": {},
   "source": [
    "<b>Monte Carlo</b><br>\n",
    "Monte Carlo methods rely on random sampling to produce numeric results. For example, the area of a semi-circle in one quadrant is given by:\n",
    "\n",
    "$\\frac{1}{4} \\pi r^2$\n",
    "\n",
    "and the area of the square is given by:\n",
    "\n",
    "$r^2$\n",
    "\n",
    "Therefore the ratio = $\\pi /4$\n",
    "\n",
    "\n",
    "A Monte Carlo method for determining $\\pi$ using this knowledge works by\n",
    "\n",
    "  - Drawing a set of random points from inside the unit square\n",
    "\n",
    "  - Counting the number of points that fall inside the quarter of the unit circle\n",
    "\n",
    "  - Calculating the ratio of the number of points inside the quarter of the unit circle to the total number of points, which approaches $\\pi/4$ as the number of random points increases.\n",
    "  "
   ]
  },
  {
   "cell_type": "code",
   "execution_count": 7,
   "metadata": {},
   "outputs": [
    {
     "data": {
      "text/html": [
       "<img src=\"Pi_30K.gif\"/>"
      ],
      "text/plain": [
       "<IPython.core.display.Image object>"
      ]
     },
     "execution_count": 7,
     "metadata": {},
     "output_type": "execute_result"
    }
   ],
   "source": [
    "#Pi animation\n",
    "Image(url='Pi_30K.gif')"
   ]
  },
  {
   "cell_type": "markdown",
   "metadata": {},
   "source": [
    "### Bayesian method of estimating $\\mu$\n",
    " \n",
    "$$\\overbrace{p(\\mu \\ |\\ Data)}^{\\text{posterior}} = \\dfrac{\\overbrace{p(Data \\ | \\ \\mu)}^{\\text{likelihood}} \\cdot \\overbrace{p(\\mu)}^{\\text{prior}}}{\\underbrace{p(Data)}_{\\text{marginal likelihood}}}$$"
   ]
  },
  {
   "cell_type": "markdown",
   "metadata": {},
   "source": [
    "### The Mechanics of MCMC\n",
    "\n",
    "The MCMC sampler draws parameter values from the prior distribution and computes the likelihood that the observed data came from a distribution with these parameter values. \n",
    "\n",
    "$$\\overbrace{p(\\mu \\ |\\ Data)}^{posterior} \\varpropto \\overbrace{p(Data \\ | \\ \\mu)}^{likelihood} \\cdot \\overbrace{p(\\mu)}^{prior}$$\n",
    "\n",
    "This calculation acts as a guiding light for the MCMC sampler. As it draws values from the paramater priors, it computes the likelihood of these paramters given the data - and will try to guide the sampler towards areas of higher probability.\n",
    "\n",
    "The Bayesian method is concerned with traversing and collect samples around the area of highest probability. All of the samples collected are considered to be a credible parameter."
   ]
  },
  {
   "cell_type": "code",
   "execution_count": 8,
   "metadata": {},
   "outputs": [
    {
     "data": {
      "text/html": [
       "<img src=\"mcmc-animate.gif\"/>"
      ],
      "text/plain": [
       "<IPython.core.display.Image object>"
      ]
     },
     "execution_count": 8,
     "metadata": {},
     "output_type": "execute_result"
    }
   ],
   "source": [
    "Image(url='mcmc-animate.gif')"
   ]
  },
  {
   "cell_type": "markdown",
   "metadata": {},
   "source": [
    "### References\n",
    "- [MCMC animation by Maxwell Joeseph](http://blog.revolutionanalytics.com/2013/09/an-animated-peek-into-the-workings-of-Bayesian-statistics.html)"
   ]
  }
 ],
 "metadata": {
  "kernelspec": {
   "display_name": "Python 3",
   "language": "python",
   "name": "python3"
  },
  "language_info": {
   "codemirror_mode": {
    "name": "ipython",
    "version": 3
   },
   "file_extension": ".py",
   "mimetype": "text/x-python",
   "name": "python",
   "nbconvert_exporter": "python",
   "pygments_lexer": "ipython3",
   "version": "3.6.5"
  }
 },
 "nbformat": 4,
 "nbformat_minor": 2
}
